{
  "nbformat": 4,
  "nbformat_minor": 0,
  "metadata": {
    "accelerator": "GPU",
    "colab": {
      "name": "Questions - Project 2 - Sequential Models in NLP - Sarcasm Detection.ipynb",
      "provenance": [],
      "collapsed_sections": []
    },
    "kernelspec": {
      "display_name": "Python 3",
      "language": "python",
      "name": "python3"
    },
    "language_info": {
      "codemirror_mode": {
        "name": "ipython",
        "version": 3
      },
      "file_extension": ".py",
      "mimetype": "text/x-python",
      "name": "python",
      "nbconvert_exporter": "python",
      "pygments_lexer": "ipython3",
      "version": "3.7.3"
    }
  },
  "cells": [
    {
      "cell_type": "markdown",
      "metadata": {
        "id": "bI7SIeJ_oZMU"
      },
      "source": [
        "<img src=\"http://drive.google.com/uc?export=view&id=1tpOCamr9aWz817atPnyXus8w5gJ3mIts\" width=500px>\n",
        "\n",
        "Proprietary content. © Great Learning. All Rights Reserved. Unauthorized use or distribution prohibited."
      ]
    },
    {
      "cell_type": "markdown",
      "metadata": {
        "id": "Eukag7wEoPZu"
      },
      "source": [
        "### Package Version:\n",
        "- tensorflow==2.2.0\n",
        "- pandas==1.0.5\n",
        "- numpy==1.18.5\n",
        "- google==2.0.3"
      ]
    },
    {
      "cell_type": "markdown",
      "metadata": {
        "id": "pp68FAQf9aMN"
      },
      "source": [
        "# Sarcasm Detection"
      ]
    },
    {
      "cell_type": "markdown",
      "metadata": {
        "id": "bEahVPtWX5ve"
      },
      "source": [
        "### Dataset\n",
        "\n",
        "#### Acknowledgement\n",
        "Misra, Rishabh, and Prahal Arora. \"Sarcasm Detection using Hybrid Neural Network.\" arXiv preprint arXiv:1908.07414 (2019).\n",
        "\n",
        "**Required Files given in below link.**\n",
        "\n",
        "https://drive.google.com/drive/folders/1xUnF35naPGU63xwRDVGc-DkZ3M8V5mMk"
      ]
    },
    {
      "cell_type": "code",
      "metadata": {
        "colab": {
          "base_uri": "https://localhost:8080/"
        },
        "id": "DMdwEKXgAK80",
        "outputId": "a3634dc0-d2ab-422a-b8fa-3c0df3c353eb"
      },
      "source": [
        "from google.colab import drive\n",
        "drive.mount('/content/drive')"
      ],
      "execution_count": 1,
      "outputs": [
        {
          "output_type": "stream",
          "text": [
            "Mounted at /content/drive\n"
          ],
          "name": "stdout"
        }
      ]
    },
    {
      "cell_type": "markdown",
      "metadata": {
        "id": "vAk6BRUh8CqL"
      },
      "source": [
        "### Load Data (5 Marks)"
      ]
    },
    {
      "cell_type": "code",
      "metadata": {
        "id": "v8-PQsV0DrAZ"
      },
      "source": [
        "import pandas as pd\r\n",
        "import numpy as np\r\n",
        "import matplotlib.pyplot as plt\r\n",
        "import json\r\n",
        "import os"
      ],
      "execution_count": 2,
      "outputs": []
    },
    {
      "cell_type": "code",
      "metadata": {
        "colab": {
          "base_uri": "https://localhost:8080/"
        },
        "id": "Sc0BA0ZGA3ei",
        "outputId": "3964523c-ada6-4910-df5e-f33f94226c40"
      },
      "source": [
        "os.chdir(\"/content/drive/MyDrive/Data\")\r\n",
        "os.listdir()"
      ],
      "execution_count": 4,
      "outputs": [
        {
          "output_type": "execute_result",
          "data": {
            "text/plain": [
              "['Sarcasm_Headlines_Dataset.json',\n",
              " 'glove.6B.300d.txt',\n",
              " 'glove.6B.zip',\n",
              " 'glove.6B.100d.txt',\n",
              " 'glove.6B.50d.txt',\n",
              " 'glove.6B.200d.txt']"
            ]
          },
          "metadata": {
            "tags": []
          },
          "execution_count": 4
        }
      ]
    },
    {
      "cell_type": "code",
      "metadata": {
        "colab": {
          "base_uri": "https://localhost:8080/"
        },
        "id": "05j0_uMKBZz9",
        "outputId": "ca549e2c-bde5-4661-983e-e7d1601b8269"
      },
      "source": [
        "input_data=pd.read_json(\"Sarcasm_Headlines_Dataset.json\", lines=True)\r\n",
        "input_data.shape"
      ],
      "execution_count": 8,
      "outputs": [
        {
          "output_type": "execute_result",
          "data": {
            "text/plain": [
              "(26709, 3)"
            ]
          },
          "metadata": {
            "tags": []
          },
          "execution_count": 8
        }
      ]
    },
    {
      "cell_type": "code",
      "metadata": {
        "colab": {
          "base_uri": "https://localhost:8080/",
          "height": 402
        },
        "id": "elLVqUxIBuwJ",
        "outputId": "ce9717e7-d043-4114-fb25-c48d4297db90"
      },
      "source": [
        "input_data"
      ],
      "execution_count": 9,
      "outputs": [
        {
          "output_type": "execute_result",
          "data": {
            "text/html": [
              "<div>\n",
              "<style scoped>\n",
              "    .dataframe tbody tr th:only-of-type {\n",
              "        vertical-align: middle;\n",
              "    }\n",
              "\n",
              "    .dataframe tbody tr th {\n",
              "        vertical-align: top;\n",
              "    }\n",
              "\n",
              "    .dataframe thead th {\n",
              "        text-align: right;\n",
              "    }\n",
              "</style>\n",
              "<table border=\"1\" class=\"dataframe\">\n",
              "  <thead>\n",
              "    <tr style=\"text-align: right;\">\n",
              "      <th></th>\n",
              "      <th>article_link</th>\n",
              "      <th>headline</th>\n",
              "      <th>is_sarcastic</th>\n",
              "    </tr>\n",
              "  </thead>\n",
              "  <tbody>\n",
              "    <tr>\n",
              "      <th>0</th>\n",
              "      <td>https://www.huffingtonpost.com/entry/versace-b...</td>\n",
              "      <td>former versace store clerk sues over secret 'b...</td>\n",
              "      <td>0</td>\n",
              "    </tr>\n",
              "    <tr>\n",
              "      <th>1</th>\n",
              "      <td>https://www.huffingtonpost.com/entry/roseanne-...</td>\n",
              "      <td>the 'roseanne' revival catches up to our thorn...</td>\n",
              "      <td>0</td>\n",
              "    </tr>\n",
              "    <tr>\n",
              "      <th>2</th>\n",
              "      <td>https://local.theonion.com/mom-starting-to-fea...</td>\n",
              "      <td>mom starting to fear son's web series closest ...</td>\n",
              "      <td>1</td>\n",
              "    </tr>\n",
              "    <tr>\n",
              "      <th>3</th>\n",
              "      <td>https://politics.theonion.com/boehner-just-wan...</td>\n",
              "      <td>boehner just wants wife to listen, not come up...</td>\n",
              "      <td>1</td>\n",
              "    </tr>\n",
              "    <tr>\n",
              "      <th>4</th>\n",
              "      <td>https://www.huffingtonpost.com/entry/jk-rowlin...</td>\n",
              "      <td>j.k. rowling wishes snape happy birthday in th...</td>\n",
              "      <td>0</td>\n",
              "    </tr>\n",
              "    <tr>\n",
              "      <th>...</th>\n",
              "      <td>...</td>\n",
              "      <td>...</td>\n",
              "      <td>...</td>\n",
              "    </tr>\n",
              "    <tr>\n",
              "      <th>26704</th>\n",
              "      <td>https://www.huffingtonpost.com/entry/american-...</td>\n",
              "      <td>american politics in moral free-fall</td>\n",
              "      <td>0</td>\n",
              "    </tr>\n",
              "    <tr>\n",
              "      <th>26705</th>\n",
              "      <td>https://www.huffingtonpost.com/entry/americas-...</td>\n",
              "      <td>america's best 20 hikes</td>\n",
              "      <td>0</td>\n",
              "    </tr>\n",
              "    <tr>\n",
              "      <th>26706</th>\n",
              "      <td>https://www.huffingtonpost.com/entry/reparatio...</td>\n",
              "      <td>reparations and obama</td>\n",
              "      <td>0</td>\n",
              "    </tr>\n",
              "    <tr>\n",
              "      <th>26707</th>\n",
              "      <td>https://www.huffingtonpost.com/entry/israeli-b...</td>\n",
              "      <td>israeli ban targeting boycott supporters raise...</td>\n",
              "      <td>0</td>\n",
              "    </tr>\n",
              "    <tr>\n",
              "      <th>26708</th>\n",
              "      <td>https://www.huffingtonpost.com/entry/gourmet-g...</td>\n",
              "      <td>gourmet gifts for the foodie 2014</td>\n",
              "      <td>0</td>\n",
              "    </tr>\n",
              "  </tbody>\n",
              "</table>\n",
              "<p>26709 rows × 3 columns</p>\n",
              "</div>"
            ],
            "text/plain": [
              "                                            article_link  ... is_sarcastic\n",
              "0      https://www.huffingtonpost.com/entry/versace-b...  ...            0\n",
              "1      https://www.huffingtonpost.com/entry/roseanne-...  ...            0\n",
              "2      https://local.theonion.com/mom-starting-to-fea...  ...            1\n",
              "3      https://politics.theonion.com/boehner-just-wan...  ...            1\n",
              "4      https://www.huffingtonpost.com/entry/jk-rowlin...  ...            0\n",
              "...                                                  ...  ...          ...\n",
              "26704  https://www.huffingtonpost.com/entry/american-...  ...            0\n",
              "26705  https://www.huffingtonpost.com/entry/americas-...  ...            0\n",
              "26706  https://www.huffingtonpost.com/entry/reparatio...  ...            0\n",
              "26707  https://www.huffingtonpost.com/entry/israeli-b...  ...            0\n",
              "26708  https://www.huffingtonpost.com/entry/gourmet-g...  ...            0\n",
              "\n",
              "[26709 rows x 3 columns]"
            ]
          },
          "metadata": {
            "tags": []
          },
          "execution_count": 9
        }
      ]
    },
    {
      "cell_type": "markdown",
      "metadata": {
        "id": "z6pXf7A78E2H"
      },
      "source": [
        "### Drop `article_link` from dataset (5 Marks)"
      ]
    },
    {
      "cell_type": "code",
      "metadata": {
        "id": "-WUNHq5zEV0n"
      },
      "source": [
        "## Droping article_link column \r\n",
        "input_data.drop('article_link', axis=1, inplace=True)"
      ],
      "execution_count": 11,
      "outputs": []
    },
    {
      "cell_type": "code",
      "metadata": {
        "colab": {
          "base_uri": "https://localhost:8080/",
          "height": 195
        },
        "id": "NqX10LoNCh8i",
        "outputId": "0d71e78e-4afa-4554-9993-63e42b695d55"
      },
      "source": [
        "input_data.head()"
      ],
      "execution_count": 13,
      "outputs": [
        {
          "output_type": "execute_result",
          "data": {
            "text/html": [
              "<div>\n",
              "<style scoped>\n",
              "    .dataframe tbody tr th:only-of-type {\n",
              "        vertical-align: middle;\n",
              "    }\n",
              "\n",
              "    .dataframe tbody tr th {\n",
              "        vertical-align: top;\n",
              "    }\n",
              "\n",
              "    .dataframe thead th {\n",
              "        text-align: right;\n",
              "    }\n",
              "</style>\n",
              "<table border=\"1\" class=\"dataframe\">\n",
              "  <thead>\n",
              "    <tr style=\"text-align: right;\">\n",
              "      <th></th>\n",
              "      <th>headline</th>\n",
              "      <th>is_sarcastic</th>\n",
              "    </tr>\n",
              "  </thead>\n",
              "  <tbody>\n",
              "    <tr>\n",
              "      <th>0</th>\n",
              "      <td>former versace store clerk sues over secret 'b...</td>\n",
              "      <td>0</td>\n",
              "    </tr>\n",
              "    <tr>\n",
              "      <th>1</th>\n",
              "      <td>the 'roseanne' revival catches up to our thorn...</td>\n",
              "      <td>0</td>\n",
              "    </tr>\n",
              "    <tr>\n",
              "      <th>2</th>\n",
              "      <td>mom starting to fear son's web series closest ...</td>\n",
              "      <td>1</td>\n",
              "    </tr>\n",
              "    <tr>\n",
              "      <th>3</th>\n",
              "      <td>boehner just wants wife to listen, not come up...</td>\n",
              "      <td>1</td>\n",
              "    </tr>\n",
              "    <tr>\n",
              "      <th>4</th>\n",
              "      <td>j.k. rowling wishes snape happy birthday in th...</td>\n",
              "      <td>0</td>\n",
              "    </tr>\n",
              "  </tbody>\n",
              "</table>\n",
              "</div>"
            ],
            "text/plain": [
              "                                            headline  is_sarcastic\n",
              "0  former versace store clerk sues over secret 'b...             0\n",
              "1  the 'roseanne' revival catches up to our thorn...             0\n",
              "2  mom starting to fear son's web series closest ...             1\n",
              "3  boehner just wants wife to listen, not come up...             1\n",
              "4  j.k. rowling wishes snape happy birthday in th...             0"
            ]
          },
          "metadata": {
            "tags": []
          },
          "execution_count": 13
        }
      ]
    },
    {
      "cell_type": "markdown",
      "metadata": {
        "id": "D0h6IOxU8OdH"
      },
      "source": [
        "### Get length of each headline and add a column for that (5 Marks)"
      ]
    },
    {
      "cell_type": "code",
      "metadata": {
        "id": "MLpiBRDmEV2l"
      },
      "source": [
        "input_data['headline_length']=input_data['headline'].apply(lambda x:len(x))\r\n"
      ],
      "execution_count": 18,
      "outputs": []
    },
    {
      "cell_type": "code",
      "metadata": {
        "colab": {
          "base_uri": "https://localhost:8080/"
        },
        "id": "m22x7caADTpd",
        "outputId": "9d4fd586-e6e2-4ec9-81c4-918cf64674ec"
      },
      "source": [
        "input_data.shape"
      ],
      "execution_count": 20,
      "outputs": [
        {
          "output_type": "execute_result",
          "data": {
            "text/plain": [
              "(26709, 3)"
            ]
          },
          "metadata": {
            "tags": []
          },
          "execution_count": 20
        }
      ]
    },
    {
      "cell_type": "code",
      "metadata": {
        "colab": {
          "base_uri": "https://localhost:8080/",
          "height": 195
        },
        "id": "jVJp1b8lDZ9z",
        "outputId": "4e4908d8-41b4-4a90-8ede-76b2d4e937eb"
      },
      "source": [
        "input_data.head()"
      ],
      "execution_count": 21,
      "outputs": [
        {
          "output_type": "execute_result",
          "data": {
            "text/html": [
              "<div>\n",
              "<style scoped>\n",
              "    .dataframe tbody tr th:only-of-type {\n",
              "        vertical-align: middle;\n",
              "    }\n",
              "\n",
              "    .dataframe tbody tr th {\n",
              "        vertical-align: top;\n",
              "    }\n",
              "\n",
              "    .dataframe thead th {\n",
              "        text-align: right;\n",
              "    }\n",
              "</style>\n",
              "<table border=\"1\" class=\"dataframe\">\n",
              "  <thead>\n",
              "    <tr style=\"text-align: right;\">\n",
              "      <th></th>\n",
              "      <th>headline</th>\n",
              "      <th>is_sarcastic</th>\n",
              "      <th>headline_length</th>\n",
              "    </tr>\n",
              "  </thead>\n",
              "  <tbody>\n",
              "    <tr>\n",
              "      <th>0</th>\n",
              "      <td>former versace store clerk sues over secret 'b...</td>\n",
              "      <td>0</td>\n",
              "      <td>78</td>\n",
              "    </tr>\n",
              "    <tr>\n",
              "      <th>1</th>\n",
              "      <td>the 'roseanne' revival catches up to our thorn...</td>\n",
              "      <td>0</td>\n",
              "      <td>84</td>\n",
              "    </tr>\n",
              "    <tr>\n",
              "      <th>2</th>\n",
              "      <td>mom starting to fear son's web series closest ...</td>\n",
              "      <td>1</td>\n",
              "      <td>79</td>\n",
              "    </tr>\n",
              "    <tr>\n",
              "      <th>3</th>\n",
              "      <td>boehner just wants wife to listen, not come up...</td>\n",
              "      <td>1</td>\n",
              "      <td>84</td>\n",
              "    </tr>\n",
              "    <tr>\n",
              "      <th>4</th>\n",
              "      <td>j.k. rowling wishes snape happy birthday in th...</td>\n",
              "      <td>0</td>\n",
              "      <td>64</td>\n",
              "    </tr>\n",
              "  </tbody>\n",
              "</table>\n",
              "</div>"
            ],
            "text/plain": [
              "                                            headline  ...  headline_length\n",
              "0  former versace store clerk sues over secret 'b...  ...               78\n",
              "1  the 'roseanne' revival catches up to our thorn...  ...               84\n",
              "2  mom starting to fear son's web series closest ...  ...               79\n",
              "3  boehner just wants wife to listen, not come up...  ...               84\n",
              "4  j.k. rowling wishes snape happy birthday in th...  ...               64\n",
              "\n",
              "[5 rows x 3 columns]"
            ]
          },
          "metadata": {
            "tags": []
          },
          "execution_count": 21
        }
      ]
    },
    {
      "cell_type": "markdown",
      "metadata": {
        "id": "SMF-wjJ2aMwm"
      },
      "source": [
        "### Initialize parameter values\n",
        "- Set values for max_features, maxlen, & embedding_size\n",
        "- max_features: Number of words to take from tokenizer(most frequent words)\n",
        "- maxlen: Maximum length of each sentence to be limited to 25\n",
        "- embedding_size: size of embedding vector"
      ]
    },
    {
      "cell_type": "code",
      "metadata": {
        "id": "jPw9gAN_EV6m"
      },
      "source": [
        "max_features = 10000\n",
        "maxlen = 25\n",
        "embedding_size = 200"
      ],
      "execution_count": 22,
      "outputs": []
    },
    {
      "cell_type": "code",
      "metadata": {
        "id": "rOK5yt7_EYOf"
      },
      "source": [
        "test_data=input_data[np.arange(input_data.shape[0])%5 ==0]\r\n",
        "train_data=input_data[np.arange(input_data.shape[0])%5 !=0]\r\n"
      ],
      "execution_count": 36,
      "outputs": []
    },
    {
      "cell_type": "code",
      "metadata": {
        "colab": {
          "base_uri": "https://localhost:8080/",
          "height": 195
        },
        "id": "OvnV5bWkF2Yg",
        "outputId": "924d31f9-d643-4f6d-959f-136c8917bc11"
      },
      "source": [
        "test_data.head()\r\n"
      ],
      "execution_count": 37,
      "outputs": [
        {
          "output_type": "execute_result",
          "data": {
            "text/html": [
              "<div>\n",
              "<style scoped>\n",
              "    .dataframe tbody tr th:only-of-type {\n",
              "        vertical-align: middle;\n",
              "    }\n",
              "\n",
              "    .dataframe tbody tr th {\n",
              "        vertical-align: top;\n",
              "    }\n",
              "\n",
              "    .dataframe thead th {\n",
              "        text-align: right;\n",
              "    }\n",
              "</style>\n",
              "<table border=\"1\" class=\"dataframe\">\n",
              "  <thead>\n",
              "    <tr style=\"text-align: right;\">\n",
              "      <th></th>\n",
              "      <th>headline</th>\n",
              "      <th>is_sarcastic</th>\n",
              "      <th>headline_length</th>\n",
              "    </tr>\n",
              "  </thead>\n",
              "  <tbody>\n",
              "    <tr>\n",
              "      <th>0</th>\n",
              "      <td>former versace store clerk sues over secret 'b...</td>\n",
              "      <td>0</td>\n",
              "      <td>78</td>\n",
              "    </tr>\n",
              "    <tr>\n",
              "      <th>5</th>\n",
              "      <td>advancing the world's women</td>\n",
              "      <td>0</td>\n",
              "      <td>27</td>\n",
              "    </tr>\n",
              "    <tr>\n",
              "      <th>10</th>\n",
              "      <td>airline passengers tackle man who rushes cockp...</td>\n",
              "      <td>0</td>\n",
              "      <td>63</td>\n",
              "    </tr>\n",
              "    <tr>\n",
              "      <th>15</th>\n",
              "      <td>nuclear bomb detonates during rehearsal for 's...</td>\n",
              "      <td>1</td>\n",
              "      <td>64</td>\n",
              "    </tr>\n",
              "    <tr>\n",
              "      <th>20</th>\n",
              "      <td>courtroom sketch artist has clear manga influe...</td>\n",
              "      <td>1</td>\n",
              "      <td>50</td>\n",
              "    </tr>\n",
              "  </tbody>\n",
              "</table>\n",
              "</div>"
            ],
            "text/plain": [
              "                                             headline  ...  headline_length\n",
              "0   former versace store clerk sues over secret 'b...  ...               78\n",
              "5                         advancing the world's women  ...               27\n",
              "10  airline passengers tackle man who rushes cockp...  ...               63\n",
              "15  nuclear bomb detonates during rehearsal for 's...  ...               64\n",
              "20  courtroom sketch artist has clear manga influe...  ...               50\n",
              "\n",
              "[5 rows x 3 columns]"
            ]
          },
          "metadata": {
            "tags": []
          },
          "execution_count": 37
        }
      ]
    },
    {
      "cell_type": "code",
      "metadata": {
        "colab": {
          "base_uri": "https://localhost:8080/",
          "height": 212
        },
        "id": "Yd5s0l5wF6S2",
        "outputId": "ef829113-ab0d-4b72-fb97-8a017b331ed5"
      },
      "source": [
        "\r\n",
        "train_data.head()"
      ],
      "execution_count": 39,
      "outputs": [
        {
          "output_type": "stream",
          "text": [
            "(21367, 3)\n"
          ],
          "name": "stdout"
        },
        {
          "output_type": "execute_result",
          "data": {
            "text/html": [
              "<div>\n",
              "<style scoped>\n",
              "    .dataframe tbody tr th:only-of-type {\n",
              "        vertical-align: middle;\n",
              "    }\n",
              "\n",
              "    .dataframe tbody tr th {\n",
              "        vertical-align: top;\n",
              "    }\n",
              "\n",
              "    .dataframe thead th {\n",
              "        text-align: right;\n",
              "    }\n",
              "</style>\n",
              "<table border=\"1\" class=\"dataframe\">\n",
              "  <thead>\n",
              "    <tr style=\"text-align: right;\">\n",
              "      <th></th>\n",
              "      <th>headline</th>\n",
              "      <th>is_sarcastic</th>\n",
              "      <th>headline_length</th>\n",
              "    </tr>\n",
              "  </thead>\n",
              "  <tbody>\n",
              "    <tr>\n",
              "      <th>1</th>\n",
              "      <td>the 'roseanne' revival catches up to our thorn...</td>\n",
              "      <td>0</td>\n",
              "      <td>84</td>\n",
              "    </tr>\n",
              "    <tr>\n",
              "      <th>2</th>\n",
              "      <td>mom starting to fear son's web series closest ...</td>\n",
              "      <td>1</td>\n",
              "      <td>79</td>\n",
              "    </tr>\n",
              "    <tr>\n",
              "      <th>3</th>\n",
              "      <td>boehner just wants wife to listen, not come up...</td>\n",
              "      <td>1</td>\n",
              "      <td>84</td>\n",
              "    </tr>\n",
              "    <tr>\n",
              "      <th>4</th>\n",
              "      <td>j.k. rowling wishes snape happy birthday in th...</td>\n",
              "      <td>0</td>\n",
              "      <td>64</td>\n",
              "    </tr>\n",
              "    <tr>\n",
              "      <th>6</th>\n",
              "      <td>the fascinating case for eating lab-grown meat</td>\n",
              "      <td>0</td>\n",
              "      <td>46</td>\n",
              "    </tr>\n",
              "  </tbody>\n",
              "</table>\n",
              "</div>"
            ],
            "text/plain": [
              "                                            headline  ...  headline_length\n",
              "1  the 'roseanne' revival catches up to our thorn...  ...               84\n",
              "2  mom starting to fear son's web series closest ...  ...               79\n",
              "3  boehner just wants wife to listen, not come up...  ...               84\n",
              "4  j.k. rowling wishes snape happy birthday in th...  ...               64\n",
              "6     the fascinating case for eating lab-grown meat  ...               46\n",
              "\n",
              "[5 rows x 3 columns]"
            ]
          },
          "metadata": {
            "tags": []
          },
          "execution_count": 39
        }
      ]
    },
    {
      "cell_type": "code",
      "metadata": {
        "colab": {
          "base_uri": "https://localhost:8080/"
        },
        "id": "cEqgGxU4GL1P",
        "outputId": "868695fc-9b6e-494b-badd-843b31b44632"
      },
      "source": [
        "print('training data shape->',train_data.shape)\r\n",
        "print('testing data shape->',test_data.shape)"
      ],
      "execution_count": 42,
      "outputs": [
        {
          "output_type": "stream",
          "text": [
            "training data shape-> (21367, 3)\n",
            "testing data shape-> (5342, 3)\n"
          ],
          "name": "stdout"
        }
      ]
    },
    {
      "cell_type": "markdown",
      "metadata": {
        "id": "9abSe-bM8fn9"
      },
      "source": [
        "### Apply `tensorflow.keras` Tokenizer and get indices for words (5 Marks)\n",
        "- Initialize Tokenizer object with number of words as 10000\n",
        "- Fit the tokenizer object on headline column\n",
        "- Convert the text to sequence\n"
      ]
    },
    {
      "cell_type": "code",
      "metadata": {
        "id": "p8ecGErZF5TR"
      },
      "source": [
        "from tensorflow.keras.preprocessing.text import Tokenizer\r\n",
        "from tensorflow.keras.preprocessing.sequence import pad_sequences"
      ],
      "execution_count": 44,
      "outputs": []
    },
    {
      "cell_type": "code",
      "metadata": {
        "id": "csO7S1LwPCeC"
      },
      "source": [
        "tokenizer = Tokenizer(num_words=max_features)\n",
        "tokenizer.fit_on_texts(train_data['headline'])\n",
        "encodings_train = tokenizer.texts_to_sequences(train_data['headline'])\n",
        "encodings_test = tokenizer.texts_to_sequences(test_data['headline'])"
      ],
      "execution_count": 46,
      "outputs": []
    },
    {
      "cell_type": "code",
      "metadata": {
        "id": "y8g4l0KfF3eh"
      },
      "source": [
        ""
      ],
      "execution_count": null,
      "outputs": []
    },
    {
      "cell_type": "markdown",
      "metadata": {
        "id": "xeZpwPO4bOkZ"
      },
      "source": [
        "### Pad sequences (5 Marks)\n",
        "- Pad each example with a maximum length\n",
        "- Convert target column into numpy array"
      ]
    },
    {
      "cell_type": "code",
      "metadata": {
        "id": "qV0K70E5c9Xl"
      },
      "source": [
        ""
      ],
      "execution_count": null,
      "outputs": []
    },
    {
      "cell_type": "code",
      "metadata": {
        "id": "5r3vkEOCILdQ"
      },
      "source": [
        "encodings_train = pad_sequences(encodings_train, maxlen=maxlen, padding='pre')\n",
        "encodings_test = pad_sequences(encodings_test, maxlen=maxlen, padding='pre')"
      ],
      "execution_count": 47,
      "outputs": []
    },
    {
      "cell_type": "code",
      "metadata": {
        "colab": {
          "base_uri": "https://localhost:8080/"
        },
        "id": "pdEMNCRkIVAa",
        "outputId": "caec4ddc-7208-4de4-826c-40c253f0faf8"
      },
      "source": [
        "encodings_train.shape"
      ],
      "execution_count": 49,
      "outputs": [
        {
          "output_type": "execute_result",
          "data": {
            "text/plain": [
              "(21367, 25)"
            ]
          },
          "metadata": {
            "tags": []
          },
          "execution_count": 49
        }
      ]
    },
    {
      "cell_type": "code",
      "metadata": {
        "colab": {
          "base_uri": "https://localhost:8080/"
        },
        "id": "ybgWLC_4Ij4i",
        "outputId": "5412ffdd-ad0c-44a9-f63b-daacaae0f859"
      },
      "source": [
        "encodings_train"
      ],
      "execution_count": 50,
      "outputs": [
        {
          "output_type": "execute_result",
          "data": {
            "text/plain": [
              "array([[   0,    0,    0, ...,  285,    8,  950],\n",
              "       [   0,    0,    0, ...,   45,    1, 9322],\n",
              "       [   0,    0,    0, ..., 1283, 5953, 1088],\n",
              "       ...,\n",
              "       [   0,    0,    0, ...,    0,    8,   64],\n",
              "       [   0,    0,    0, ..., 1760, 3160, 3463],\n",
              "       [   0,    0,    0, ...,    5,    3,  836]], dtype=int32)"
            ]
          },
          "metadata": {
            "tags": []
          },
          "execution_count": 50
        }
      ]
    },
    {
      "cell_type": "code",
      "metadata": {
        "id": "NDlraqShJLuo"
      },
      "source": [
        ""
      ],
      "execution_count": null,
      "outputs": []
    },
    {
      "cell_type": "markdown",
      "metadata": {
        "id": "WJLyKg-98rH_"
      },
      "source": [
        "### Vocab mapping\n",
        "- There is no word for 0th index"
      ]
    },
    {
      "cell_type": "code",
      "metadata": {
        "colab": {
          "base_uri": "https://localhost:8080/"
        },
        "id": "KOGmsibbJVtp",
        "outputId": "ac9e847f-f709-4c11-a913-789a8b38c0bf"
      },
      "source": [
        "tokenizer.word_index == 0"
      ],
      "execution_count": 58,
      "outputs": [
        {
          "output_type": "execute_result",
          "data": {
            "text/plain": [
              "False"
            ]
          },
          "metadata": {
            "tags": []
          },
          "execution_count": 58
        }
      ]
    },
    {
      "cell_type": "code",
      "metadata": {
        "colab": {
          "base_uri": "https://localhost:8080/"
        },
        "id": "N0ewmhAwJMeK",
        "outputId": "79b99a5d-4b3d-4f5a-f7e0-4ba1704172a7"
      },
      "source": [
        "tokenizer.word_index"
      ],
      "execution_count": 56,
      "outputs": [
        {
          "output_type": "execute_result",
          "data": {
            "text/plain": [
              "{'to': 1,\n",
              " 'of': 2,\n",
              " 'the': 3,\n",
              " 'in': 4,\n",
              " 'for': 5,\n",
              " 'a': 6,\n",
              " 'on': 7,\n",
              " 'and': 8,\n",
              " 'with': 9,\n",
              " 'is': 10,\n",
              " 'new': 11,\n",
              " 'trump': 12,\n",
              " 'man': 13,\n",
              " 'from': 14,\n",
              " 'at': 15,\n",
              " 'about': 16,\n",
              " 'you': 17,\n",
              " 'this': 18,\n",
              " 'by': 19,\n",
              " 'after': 20,\n",
              " 'be': 21,\n",
              " 'out': 22,\n",
              " 'up': 23,\n",
              " 'how': 24,\n",
              " 'as': 25,\n",
              " 'it': 26,\n",
              " 'that': 27,\n",
              " 'not': 28,\n",
              " 'are': 29,\n",
              " 'your': 30,\n",
              " 'what': 31,\n",
              " 'his': 32,\n",
              " 'all': 33,\n",
              " 'who': 34,\n",
              " 'more': 35,\n",
              " 'he': 36,\n",
              " 'just': 37,\n",
              " 'will': 38,\n",
              " 'has': 39,\n",
              " 'year': 40,\n",
              " 'why': 41,\n",
              " 'one': 42,\n",
              " 'into': 43,\n",
              " 'report': 44,\n",
              " 'have': 45,\n",
              " 'area': 46,\n",
              " 'over': 47,\n",
              " 'donald': 48,\n",
              " 'u': 49,\n",
              " 'day': 50,\n",
              " 'says': 51,\n",
              " 's': 52,\n",
              " 'can': 53,\n",
              " 'first': 54,\n",
              " 'time': 55,\n",
              " 'woman': 56,\n",
              " 'like': 57,\n",
              " 'get': 58,\n",
              " 'her': 59,\n",
              " \"trump's\": 60,\n",
              " 'old': 61,\n",
              " 'no': 62,\n",
              " 'now': 63,\n",
              " 'obama': 64,\n",
              " 'an': 65,\n",
              " 'off': 66,\n",
              " 'life': 67,\n",
              " 'people': 68,\n",
              " 'than': 69,\n",
              " 'was': 70,\n",
              " 'still': 71,\n",
              " \"'\": 72,\n",
              " 'make': 73,\n",
              " 'house': 74,\n",
              " 'women': 75,\n",
              " 'back': 76,\n",
              " 'my': 77,\n",
              " 'i': 78,\n",
              " 'clinton': 79,\n",
              " 'down': 80,\n",
              " 'white': 81,\n",
              " 'if': 82,\n",
              " 'could': 83,\n",
              " 'when': 84,\n",
              " 'we': 85,\n",
              " 'world': 86,\n",
              " 'before': 87,\n",
              " 'americans': 88,\n",
              " '5': 89,\n",
              " 'their': 90,\n",
              " 'way': 91,\n",
              " 'study': 92,\n",
              " 'most': 93,\n",
              " 'do': 94,\n",
              " 'family': 95,\n",
              " 'they': 96,\n",
              " 'school': 97,\n",
              " 'black': 98,\n",
              " 'gop': 99,\n",
              " \"it's\": 100,\n",
              " '10': 101,\n",
              " 'should': 102,\n",
              " 'years': 103,\n",
              " '3': 104,\n",
              " 'best': 105,\n",
              " 'bill': 106,\n",
              " 'really': 107,\n",
              " 'being': 108,\n",
              " 'would': 109,\n",
              " 'american': 110,\n",
              " 'him': 111,\n",
              " 'so': 112,\n",
              " \"can't\": 113,\n",
              " 'only': 114,\n",
              " 'last': 115,\n",
              " 'watch': 116,\n",
              " 'but': 117,\n",
              " 'police': 118,\n",
              " 'know': 119,\n",
              " 'say': 120,\n",
              " 'video': 121,\n",
              " 'hillary': 122,\n",
              " 'finds': 123,\n",
              " 'home': 124,\n",
              " 'death': 125,\n",
              " 'state': 126,\n",
              " 'president': 127,\n",
              " 'going': 128,\n",
              " 'or': 129,\n",
              " 'love': 130,\n",
              " \"'the\": 131,\n",
              " 'show': 132,\n",
              " 'may': 133,\n",
              " 'against': 134,\n",
              " 'health': 135,\n",
              " '2': 136,\n",
              " 'mom': 137,\n",
              " 'during': 138,\n",
              " 'she': 139,\n",
              " 'good': 140,\n",
              " '000': 141,\n",
              " 'things': 142,\n",
              " 'big': 143,\n",
              " 'right': 144,\n",
              " 'campaign': 145,\n",
              " 'every': 146,\n",
              " 'nation': 147,\n",
              " 'need': 148,\n",
              " 'court': 149,\n",
              " 'parents': 150,\n",
              " 'kids': 151,\n",
              " 'too': 152,\n",
              " 'getting': 153,\n",
              " 'party': 154,\n",
              " 'high': 155,\n",
              " 'own': 156,\n",
              " 'gets': 157,\n",
              " 'take': 158,\n",
              " 'through': 159,\n",
              " 'calls': 160,\n",
              " 'work': 161,\n",
              " 'self': 162,\n",
              " 'dead': 163,\n",
              " 'these': 164,\n",
              " 'makes': 165,\n",
              " 'john': 166,\n",
              " 'some': 167,\n",
              " 'never': 168,\n",
              " 'child': 169,\n",
              " 'our': 170,\n",
              " 'while': 171,\n",
              " 'news': 172,\n",
              " 'even': 173,\n",
              " 'change': 174,\n",
              " \"don't\": 175,\n",
              " \"here's\": 176,\n",
              " 'takes': 177,\n",
              " 'want': 178,\n",
              " 'its': 179,\n",
              " 'where': 180,\n",
              " 'america': 181,\n",
              " '7': 182,\n",
              " 'see': 183,\n",
              " 'look': 184,\n",
              " 'little': 185,\n",
              " 'other': 186,\n",
              " 'real': 187,\n",
              " 'gay': 188,\n",
              " '6': 189,\n",
              " 'election': 190,\n",
              " 'thing': 191,\n",
              " 'next': 192,\n",
              " 'stop': 193,\n",
              " \"doesn't\": 194,\n",
              " 'local': 195,\n",
              " 'college': 196,\n",
              " 'sex': 197,\n",
              " 'two': 198,\n",
              " 'bush': 199,\n",
              " '4': 200,\n",
              " 'ever': 201,\n",
              " \"nation's\": 202,\n",
              " 'go': 203,\n",
              " 'dad': 204,\n",
              " 'guy': 205,\n",
              " 'war': 206,\n",
              " 'got': 207,\n",
              " 'around': 208,\n",
              " 'them': 209,\n",
              " 'gun': 210,\n",
              " \"he's\": 211,\n",
              " 'again': 212,\n",
              " 'made': 213,\n",
              " 'plan': 214,\n",
              " 'under': 215,\n",
              " 'long': 216,\n",
              " 'office': 217,\n",
              " 'job': 218,\n",
              " 'care': 219,\n",
              " 'actually': 220,\n",
              " 'star': 221,\n",
              " 'much': 222,\n",
              " 'dog': 223,\n",
              " 'been': 224,\n",
              " 'help': 225,\n",
              " 'season': 226,\n",
              " 'another': 227,\n",
              " 'baby': 228,\n",
              " 'congress': 229,\n",
              " 'us': 230,\n",
              " 'national': 231,\n",
              " '1': 232,\n",
              " 'million': 233,\n",
              " 'debate': 234,\n",
              " \"man's\": 235,\n",
              " 'week': 236,\n",
              " 'north': 237,\n",
              " 'ways': 238,\n",
              " 'wants': 239,\n",
              " 'night': 240,\n",
              " 'shooting': 241,\n",
              " 'me': 242,\n",
              " '20': 243,\n",
              " 'face': 244,\n",
              " 'shows': 245,\n",
              " 'had': 246,\n",
              " 'couple': 247,\n",
              " 'game': 248,\n",
              " 'climate': 249,\n",
              " 'media': 250,\n",
              " 'give': 251,\n",
              " 'trying': 252,\n",
              " \"won't\": 253,\n",
              " 'top': 254,\n",
              " 'money': 255,\n",
              " 'men': 256,\n",
              " 'food': 257,\n",
              " 'live': 258,\n",
              " 'attack': 259,\n",
              " 'anti': 260,\n",
              " 'senate': 261,\n",
              " 'finally': 262,\n",
              " '8': 263,\n",
              " 'city': 264,\n",
              " 'supreme': 265,\n",
              " 'tv': 266,\n",
              " 'making': 267,\n",
              " 'students': 268,\n",
              " 'end': 269,\n",
              " 'law': 270,\n",
              " 'does': 271,\n",
              " 'there': 272,\n",
              " 'god': 273,\n",
              " 'reveals': 274,\n",
              " 'without': 275,\n",
              " 'everyone': 276,\n",
              " 'movie': 277,\n",
              " 'deal': 278,\n",
              " 'history': 279,\n",
              " 'government': 280,\n",
              " 'teen': 281,\n",
              " 'paul': 282,\n",
              " 'announces': 283,\n",
              " 'think': 284,\n",
              " 'better': 285,\n",
              " 'body': 286,\n",
              " 'story': 287,\n",
              " 'fire': 288,\n",
              " 'away': 289,\n",
              " 'business': 290,\n",
              " 'sexual': 291,\n",
              " 'son': 292,\n",
              " 'part': 293,\n",
              " 'any': 294,\n",
              " 'republican': 295,\n",
              " 'fight': 296,\n",
              " 'introduces': 297,\n",
              " 'bad': 298,\n",
              " 'free': 299,\n",
              " 'entire': 300,\n",
              " 'already': 301,\n",
              " 'enough': 302,\n",
              " '9': 303,\n",
              " 'facebook': 304,\n",
              " 'find': 305,\n",
              " 'friend': 306,\n",
              " 'same': 307,\n",
              " 'york': 308,\n",
              " 'tell': 309,\n",
              " 'speech': 310,\n",
              " 'found': 311,\n",
              " 'sanders': 312,\n",
              " 'film': 313,\n",
              " 'friends': 314,\n",
              " 'book': 315,\n",
              " 'great': 316,\n",
              " 'james': 317,\n",
              " 'former': 318,\n",
              " 'children': 319,\n",
              " 'middle': 320,\n",
              " 'pope': 321,\n",
              " 'second': 322,\n",
              " 'come': 323,\n",
              " 'support': 324,\n",
              " 'line': 325,\n",
              " '11': 326,\n",
              " 'call': 327,\n",
              " 'single': 328,\n",
              " 'must': 329,\n",
              " 'thinks': 330,\n",
              " 'use': 331,\n",
              " 'morning': 332,\n",
              " 'email': 333,\n",
              " 'vote': 334,\n",
              " 'republicans': 335,\n",
              " 'wedding': 336,\n",
              " 'christmas': 337,\n",
              " 'violence': 338,\n",
              " 'used': 339,\n",
              " 'girl': 340,\n",
              " 'run': 341,\n",
              " 'goes': 342,\n",
              " 'human': 343,\n",
              " 'releases': 344,\n",
              " 'case': 345,\n",
              " 'tax': 346,\n",
              " 'group': 347,\n",
              " 'talk': 348,\n",
              " 'power': 349,\n",
              " 'looking': 350,\n",
              " 'something': 351,\n",
              " 'doing': 352,\n",
              " 'student': 353,\n",
              " 'wife': 354,\n",
              " 'team': 355,\n",
              " 'coming': 356,\n",
              " 'car': 357,\n",
              " 'photos': 358,\n",
              " 'win': 359,\n",
              " 'department': 360,\n",
              " 'once': 361,\n",
              " 'between': 362,\n",
              " \"didn't\": 363,\n",
              " 'behind': 364,\n",
              " 'rights': 365,\n",
              " 'security': 366,\n",
              " 'keep': 367,\n",
              " 'future': 368,\n",
              " 'bernie': 369,\n",
              " \"world's\": 370,\n",
              " 'twitter': 371,\n",
              " 'voters': 372,\n",
              " 'asks': 373,\n",
              " 'control': 374,\n",
              " '12': 375,\n",
              " 'marriage': 376,\n",
              " '2016': 377,\n",
              " 'pretty': 378,\n",
              " 'killed': 379,\n",
              " 'ryan': 380,\n",
              " 'claims': 381,\n",
              " 'name': 382,\n",
              " 'days': 383,\n",
              " 'fans': 384,\n",
              " 'unveils': 385,\n",
              " 'open': 386,\n",
              " 'meet': 387,\n",
              " 'post': 388,\n",
              " 'ad': 389,\n",
              " 'company': 390,\n",
              " 'full': 391,\n",
              " 'save': 392,\n",
              " 'class': 393,\n",
              " 'public': 394,\n",
              " 'presidential': 395,\n",
              " 'minutes': 396,\n",
              " 'living': 397,\n",
              " 'room': 398,\n",
              " 'super': 399,\n",
              " 'female': 400,\n",
              " 'scientists': 401,\n",
              " 'ban': 402,\n",
              " 'music': 403,\n",
              " 'might': 404,\n",
              " 'secret': 405,\n",
              " 'person': 406,\n",
              " 'texas': 407,\n",
              " 'head': 408,\n",
              " 'always': 409,\n",
              " 'having': 410,\n",
              " 'because': 411,\n",
              " 'wall': 412,\n",
              " 'many': 413,\n",
              " 'missing': 414,\n",
              " 'month': 415,\n",
              " 'record': 416,\n",
              " 'race': 417,\n",
              " 'pay': 418,\n",
              " 'reports': 419,\n",
              " 'sure': 420,\n",
              " 'red': 421,\n",
              " 'social': 422,\n",
              " 'shot': 423,\n",
              " 'start': 424,\n",
              " 'each': 425,\n",
              " 'plans': 426,\n",
              " 'talks': 427,\n",
              " 'forced': 428,\n",
              " 'political': 429,\n",
              " 'ceo': 430,\n",
              " 'inside': 431,\n",
              " 'teacher': 432,\n",
              " 'water': 433,\n",
              " 'boy': 434,\n",
              " 'justice': 435,\n",
              " 'three': 436,\n",
              " 'employee': 437,\n",
              " 'restaurant': 438,\n",
              " 'hot': 439,\n",
              " 'running': 440,\n",
              " 'democrats': 441,\n",
              " 'warns': 442,\n",
              " 'photo': 443,\n",
              " 'cruz': 444,\n",
              " 'summer': 445,\n",
              " 'isis': 446,\n",
              " '15': 447,\n",
              " 'taking': 448,\n",
              " 'country': 449,\n",
              " 'poll': 450,\n",
              " 'times': 451,\n",
              " 'everything': 452,\n",
              " 'were': 453,\n",
              " 'tells': 454,\n",
              " 'california': 455,\n",
              " 'george': 456,\n",
              " '50': 457,\n",
              " 'judge': 458,\n",
              " 'street': 459,\n",
              " 'nuclear': 460,\n",
              " 'working': 461,\n",
              " 'ex': 462,\n",
              " 'perfect': 463,\n",
              " 'letter': 464,\n",
              " 'until': 465,\n",
              " 'secretary': 466,\n",
              " 'very': 467,\n",
              " 'russia': 468,\n",
              " 'mother': 469,\n",
              " 'word': 470,\n",
              " 'art': 471,\n",
              " 'let': 472,\n",
              " 'meeting': 473,\n",
              " 'here': 474,\n",
              " 'thought': 475,\n",
              " 'ted': 476,\n",
              " 'giving': 477,\n",
              " 'left': 478,\n",
              " 'few': 479,\n",
              " 'romney': 480,\n",
              " 'town': 481,\n",
              " 'needs': 482,\n",
              " 'past': 483,\n",
              " 'put': 484,\n",
              " \"you're\": 485,\n",
              " 'fucking': 486,\n",
              " 'age': 487,\n",
              " 'obamacare': 488,\n",
              " 'looks': 489,\n",
              " 'nothing': 490,\n",
              " 'together': 491,\n",
              " 'feel': 492,\n",
              " 'did': 493,\n",
              " 'eating': 494,\n",
              " 'lost': 495,\n",
              " 'comes': 496,\n",
              " 'father': 497,\n",
              " 'place': 498,\n",
              " 'wrong': 499,\n",
              " 'probably': 500,\n",
              " 'gives': 501,\n",
              " '30': 502,\n",
              " 'mike': 503,\n",
              " 'heart': 504,\n",
              " 'wins': 505,\n",
              " 'ready': 506,\n",
              " 'chief': 507,\n",
              " 'list': 508,\n",
              " 'air': 509,\n",
              " 'kim': 510,\n",
              " 'yet': 511,\n",
              " 'washington': 512,\n",
              " 'states': 513,\n",
              " 'dies': 514,\n",
              " 'sleep': 515,\n",
              " 'breaking': 516,\n",
              " 'told': 517,\n",
              " \"women's\": 518,\n",
              " 'lot': 519,\n",
              " \"she's\": 520,\n",
              " 'small': 521,\n",
              " 'third': 522,\n",
              " 'hours': 523,\n",
              " 'owner': 524,\n",
              " 'hard': 525,\n",
              " 'half': 526,\n",
              " 'korea': 527,\n",
              " 'phone': 528,\n",
              " 'outside': 529,\n",
              " 'education': 530,\n",
              " 'admits': 531,\n",
              " 'military': 532,\n",
              " 'service': 533,\n",
              " 'congressman': 534,\n",
              " 'rise': 535,\n",
              " 'tweets': 536,\n",
              " 'talking': 537,\n",
              " 'fbi': 538,\n",
              " 'cat': 539,\n",
              " 'drug': 540,\n",
              " 'holiday': 541,\n",
              " 'travel': 542,\n",
              " 'well': 543,\n",
              " 'guide': 544,\n",
              " 'system': 545,\n",
              " 'officials': 546,\n",
              " 'young': 547,\n",
              " 'set': 548,\n",
              " 'today': 549,\n",
              " 'michael': 550,\n",
              " 'candidate': 551,\n",
              " 'believe': 552,\n",
              " 'federal': 553,\n",
              " 'chris': 554,\n",
              " 'attacks': 555,\n",
              " 'south': 556,\n",
              " \"'i\": 557,\n",
              " '100': 558,\n",
              " 'percent': 559,\n",
              " 'fox': 560,\n",
              " 'march': 561,\n",
              " 'cancer': 562,\n",
              " 'ask': 563,\n",
              " 'tips': 564,\n",
              " 'girlfriend': 565,\n",
              " 'king': 566,\n",
              " 'director': 567,\n",
              " 'biden': 568,\n",
              " 'someone': 569,\n",
              " 'rock': 570,\n",
              " 'bar': 571,\n",
              " 'questions': 572,\n",
              " '2015': 573,\n",
              " 'lives': 574,\n",
              " \"obama's\": 575,\n",
              " 'shit': 576,\n",
              " 'thinking': 577,\n",
              " 'hate': 578,\n",
              " 'florida': 579,\n",
              " 'issues': 580,\n",
              " 'thousands': 581,\n",
              " 'read': 582,\n",
              " 'iran': 583,\n",
              " 'less': 584,\n",
              " 'online': 585,\n",
              " 'visit': 586,\n",
              " 'happy': 587,\n",
              " 'huge': 588,\n",
              " 'play': 589,\n",
              " 't': 590,\n",
              " 'dream': 591,\n",
              " 'community': 592,\n",
              " \"what's\": 593,\n",
              " \"i'm\": 594,\n",
              " 'administration': 595,\n",
              " 'stars': 596,\n",
              " 'daughter': 597,\n",
              " 'birth': 598,\n",
              " 'accused': 599,\n",
              " 'problem': 600,\n",
              " 'beautiful': 601,\n",
              " 'crisis': 602,\n",
              " 'order': 603,\n",
              " 'trip': 604,\n",
              " 'russian': 605,\n",
              " 'excited': 606,\n",
              " \"isn't\": 607,\n",
              " 'months': 608,\n",
              " 'latest': 609,\n",
              " 'idea': 610,\n",
              " 'earth': 611,\n",
              " 'muslim': 612,\n",
              " 'democratic': 613,\n",
              " 'fun': 614,\n",
              " 'wearing': 615,\n",
              " 'different': 616,\n",
              " 'celebrates': 617,\n",
              " 'called': 618,\n",
              " 'reason': 619,\n",
              " 'birthday': 620,\n",
              " 'leaves': 621,\n",
              " 'protest': 622,\n",
              " 'scott': 623,\n",
              " 'prison': 624,\n",
              " \"america's\": 625,\n",
              " 'awards': 626,\n",
              " 'hope': 627,\n",
              " 'fan': 628,\n",
              " 'using': 629,\n",
              " 'those': 630,\n",
              " 'taylor': 631,\n",
              " 'favorite': 632,\n",
              " 'front': 633,\n",
              " 'kill': 634,\n",
              " 'hollywood': 635,\n",
              " 'internet': 636,\n",
              " 'opens': 637,\n",
              " 'personal': 638,\n",
              " 'response': 639,\n",
              " 'huffpost': 640,\n",
              " 'since': 641,\n",
              " 'leaders': 642,\n",
              " 'syrian': 643,\n",
              " 'box': 644,\n",
              " 'hour': 645,\n",
              " 'al': 646,\n",
              " 'united': 647,\n",
              " 'conversation': 648,\n",
              " 'moment': 649,\n",
              " 'knows': 650,\n",
              " 'watching': 651,\n",
              " 'reasons': 652,\n",
              " 'series': 653,\n",
              " 'gift': 654,\n",
              " 'following': 655,\n",
              " 'francis': 656,\n",
              " \"they're\": 657,\n",
              " 'move': 658,\n",
              " 'special': 659,\n",
              " 'reality': 660,\n",
              " 'date': 661,\n",
              " 'whole': 662,\n",
              " 'buy': 663,\n",
              " 'rules': 664,\n",
              " 'straight': 665,\n",
              " '40': 666,\n",
              " 'least': 667,\n",
              " 'crash': 668,\n",
              " 'leave': 669,\n",
              " 'abortion': 670,\n",
              " 'transgender': 671,\n",
              " 'kind': 672,\n",
              " 'career': 673,\n",
              " 'fall': 674,\n",
              " 'investigation': 675,\n",
              " 'tom': 676,\n",
              " 'anniversary': 677,\n",
              " 'china': 678,\n",
              " 'test': 679,\n",
              " 'relationship': 680,\n",
              " 'waiting': 681,\n",
              " 'non': 682,\n",
              " \"there's\": 683,\n",
              " 'immigration': 684,\n",
              " 'girls': 685,\n",
              " 'majority': 686,\n",
              " 'words': 687,\n",
              " 'hair': 688,\n",
              " 'apple': 689,\n",
              " 'un': 690,\n",
              " 'syria': 691,\n",
              " 'sports': 692,\n",
              " 'david': 693,\n",
              " 'assault': 694,\n",
              " 'message': 695,\n",
              " 'trailer': 696,\n",
              " 'fashion': 697,\n",
              " 'dance': 698,\n",
              " 'across': 699,\n",
              " 'key': 700,\n",
              " 'cover': 701,\n",
              " 'adorable': 702,\n",
              " 'cop': 703,\n",
              " 'stand': 704,\n",
              " 'mark': 705,\n",
              " 'stephen': 706,\n",
              " 'ice': 707,\n",
              " 'dinner': 708,\n",
              " 'millions': 709,\n",
              " 'k': 710,\n",
              " 'killing': 711,\n",
              " 'driving': 712,\n",
              " 'point': 713,\n",
              " 'minute': 714,\n",
              " 'leader': 715,\n",
              " 'billion': 716,\n",
              " 'interview': 717,\n",
              " 'far': 718,\n",
              " 'moving': 719,\n",
              " 'victims': 720,\n",
              " 'global': 721,\n",
              " 'jimmy': 722,\n",
              " 'hit': 723,\n",
              " 'chinese': 724,\n",
              " 'prince': 725,\n",
              " 'totally': 726,\n",
              " 'murder': 727,\n",
              " 'massive': 728,\n",
              " 'queer': 729,\n",
              " 'cops': 730,\n",
              " 'union': 731,\n",
              " 'breaks': 732,\n",
              " 'surprise': 733,\n",
              " 'hands': 734,\n",
              " 'iraq': 735,\n",
              " 'store': 736,\n",
              " 'mass': 737,\n",
              " 'senator': 738,\n",
              " 'style': 739,\n",
              " 'himself': 740,\n",
              " 'puts': 741,\n",
              " 'sign': 742,\n",
              " 'learned': 743,\n",
              " 'candidates': 744,\n",
              " 'ben': 745,\n",
              " 'returns': 746,\n",
              " 'early': 747,\n",
              " 'trans': 748,\n",
              " 'reportedly': 749,\n",
              " 'hits': 750,\n",
              " 'oil': 751,\n",
              " 'powerful': 752,\n",
              " 'risk': 753,\n",
              " 'adds': 754,\n",
              " 'turn': 755,\n",
              " 'kills': 756,\n",
              " 'leaving': 757,\n",
              " 'nfl': 758,\n",
              " 'feels': 759,\n",
              " 'true': 760,\n",
              " 'offers': 761,\n",
              " 'turns': 762,\n",
              " 'politics': 763,\n",
              " 'jr': 764,\n",
              " 'bring': 765,\n",
              " 'mind': 766,\n",
              " 'band': 767,\n",
              " 'side': 768,\n",
              " 'almost': 769,\n",
              " 'lessons': 770,\n",
              " 'c': 771,\n",
              " 'road': 772,\n",
              " 'struggling': 773,\n",
              " 'chicago': 774,\n",
              " 'planned': 775,\n",
              " 'lead': 776,\n",
              " 'kid': 777,\n",
              " 'dating': 778,\n",
              " 'possible': 779,\n",
              " 'employees': 780,\n",
              " 'completely': 781,\n",
              " 'return': 782,\n",
              " 'seen': 783,\n",
              " 'keeps': 784,\n",
              " 'weekend': 785,\n",
              " 'experience': 786,\n",
              " 'j': 787,\n",
              " 'vows': 788,\n",
              " 'nyc': 789,\n",
              " 'late': 790,\n",
              " 'drunk': 791,\n",
              " 'bus': 792,\n",
              " 'peace': 793,\n",
              " 'low': 794,\n",
              " 'weird': 795,\n",
              " 'anything': 796,\n",
              " 'become': 797,\n",
              " 'song': 798,\n",
              " 'audience': 799,\n",
              " 'steve': 800,\n",
              " 'signs': 801,\n",
              " 'oscar': 802,\n",
              " 'spends': 803,\n",
              " 'fighting': 804,\n",
              " 'host': 805,\n",
              " 'doctor': 806,\n",
              " 'pence': 807,\n",
              " 'board': 808,\n",
              " 'iowa': 809,\n",
              " 'die': 810,\n",
              " 'industry': 811,\n",
              " 'biggest': 812,\n",
              " 'starting': 813,\n",
              " 'coffee': 814,\n",
              " 'problems': 815,\n",
              " 'longer': 816,\n",
              " 'workers': 817,\n",
              " 'worst': 818,\n",
              " 'brings': 819,\n",
              " 'google': 820,\n",
              " 'football': 821,\n",
              " 'shop': 822,\n",
              " 'hand': 823,\n",
              " 'data': 824,\n",
              " 'action': 825,\n",
              " 'given': 826,\n",
              " 'cool': 827,\n",
              " 'artist': 828,\n",
              " 'break': 829,\n",
              " 'throws': 830,\n",
              " 'wishes': 831,\n",
              " 'decision': 832,\n",
              " 'opening': 833,\n",
              " 'williams': 834,\n",
              " 'light': 835,\n",
              " '2014': 836,\n",
              " 'actor': 837,\n",
              " 'advice': 838,\n",
              " 'near': 839,\n",
              " 'swift': 840,\n",
              " 'eat': 841,\n",
              " 'hurricane': 842,\n",
              " 'west': 843,\n",
              " 'voice': 844,\n",
              " 'deadly': 845,\n",
              " 'oscars': 846,\n",
              " 'families': 847,\n",
              " 'israel': 848,\n",
              " 'policy': 849,\n",
              " 'kardashian': 850,\n",
              " 'schools': 851,\n",
              " 'suspect': 852,\n",
              " 'try': 853,\n",
              " 'chance': 854,\n",
              " 'tour': 855,\n",
              " 'check': 856,\n",
              " 'coworker': 857,\n",
              " 'carolina': 858,\n",
              " 'suicide': 859,\n",
              " 'results': 860,\n",
              " 'protesters': 861,\n",
              " 'official': 862,\n",
              " 'urges': 863,\n",
              " 'sick': 864,\n",
              " 'lgbtq': 865,\n",
              " 'building': 866,\n",
              " 'weight': 867,\n",
              " 'male': 868,\n",
              " 'discover': 869,\n",
              " 'album': 870,\n",
              " 'names': 871,\n",
              " 'final': 872,\n",
              " 'bowl': 873,\n",
              " 'pro': 874,\n",
              " 'five': 875,\n",
              " 'university': 876,\n",
              " 'playing': 877,\n",
              " 'jobs': 878,\n",
              " 'stage': 879,\n",
              " 'fails': 880,\n",
              " 'magazine': 881,\n",
              " 'shares': 882,\n",
              " 'pregnant': 883,\n",
              " 'governor': 884,\n",
              " 'ferguson': 885,\n",
              " 'amazing': 886,\n",
              " 'door': 887,\n",
              " 'budget': 888,\n",
              " 'homeless': 889,\n",
              " \"we're\": 890,\n",
              " 'center': 891,\n",
              " 'joe': 892,\n",
              " 'fear': 893,\n",
              " 'program': 894,\n",
              " 'lose': 895,\n",
              " 'flight': 896,\n",
              " 'which': 897,\n",
              " 'ebola': 898,\n",
              " 'worried': 899,\n",
              " 'paris': 900,\n",
              " 'loss': 901,\n",
              " 'officer': 902,\n",
              " 'easy': 903,\n",
              " 'card': 904,\n",
              " 'kerry': 905,\n",
              " 'success': 906,\n",
              " 'mental': 907,\n",
              " 'leading': 908,\n",
              " 'grandma': 909,\n",
              " 'cut': 910,\n",
              " 'question': 911,\n",
              " 'energy': 912,\n",
              " 'whether': 913,\n",
              " 'east': 914,\n",
              " 'defense': 915,\n",
              " 'reform': 916,\n",
              " 'battle': 917,\n",
              " '2017': 918,\n",
              " 'train': 919,\n",
              " 'colbert': 920,\n",
              " \"let's\": 921,\n",
              " 'culture': 922,\n",
              " 'eyes': 923,\n",
              " '13': 924,\n",
              " 'color': 925,\n",
              " 'robert': 926,\n",
              " 'force': 927,\n",
              " 'matter': 928,\n",
              " 'd': 929,\n",
              " 'worth': 930,\n",
              " 'documentary': 931,\n",
              " '17': 932,\n",
              " 'major': 933,\n",
              " 'act': 934,\n",
              " 'walking': 935,\n",
              " 'teens': 936,\n",
              " 'eye': 937,\n",
              " 'hoping': 938,\n",
              " 'voter': 939,\n",
              " \"year's\": 940,\n",
              " 'wait': 941,\n",
              " 'demand': 942,\n",
              " 'explains': 943,\n",
              " 'happens': 944,\n",
              " 'vacation': 945,\n",
              " 'pizza': 946,\n",
              " 'deep': 947,\n",
              " 'general': 948,\n",
              " 'demands': 949,\n",
              " 'worse': 950,\n",
              " 'toward': 951,\n",
              " 'said': 952,\n",
              " 'reminds': 953,\n",
              " 'queen': 954,\n",
              " '18': 955,\n",
              " 'role': 956,\n",
              " 'number': 957,\n",
              " 'supporters': 958,\n",
              " 'fake': 959,\n",
              " 'performance': 960,\n",
              " 'remember': 961,\n",
              " 'loses': 962,\n",
              " 'church': 963,\n",
              " 'begins': 964,\n",
              " 'movies': 965,\n",
              " 'louis': 966,\n",
              " 'learning': 967,\n",
              " 'private': 968,\n",
              " \"that's\": 969,\n",
              " 'apartment': 970,\n",
              " 'halloween': 971,\n",
              " 'plane': 972,\n",
              " 'lgbt': 973,\n",
              " 'picture': 974,\n",
              " 'funding': 975,\n",
              " 'sean': 976,\n",
              " 'beauty': 977,\n",
              " 'hopes': 978,\n",
              " 'accidentally': 979,\n",
              " 'crime': 980,\n",
              " 'moms': 981,\n",
              " 'close': 982,\n",
              " 'winter': 983,\n",
              " 'moore': 984,\n",
              " 'slams': 985,\n",
              " 'residents': 986,\n",
              " 'airport': 987,\n",
              " 'amazon': 988,\n",
              " 'anyone': 989,\n",
              " 'short': 990,\n",
              " 'hall': 991,\n",
              " 'rally': 992,\n",
              " 'chicken': 993,\n",
              " 'press': 994,\n",
              " 'attempt': 995,\n",
              " 'simple': 996,\n",
              " 'apologizes': 997,\n",
              " 'clearly': 998,\n",
              " \"you'll\": 999,\n",
              " 'abuse': 1000,\n",
              " ...}"
            ]
          },
          "metadata": {
            "tags": []
          },
          "execution_count": 56
        }
      ]
    },
    {
      "cell_type": "markdown",
      "metadata": {
        "id": "VRiNX58Rb3oJ"
      },
      "source": [
        "### Set number of words\n",
        "- Since the above 0th index doesn't have a word, add 1 to the length of the vocabulary"
      ]
    },
    {
      "cell_type": "code",
      "metadata": {
        "id": "Dfwq6ou8ck2f",
        "colab": {
          "base_uri": "https://localhost:8080/"
        },
        "outputId": "d79b8dd6-ee8a-4a56-d025-1dee57356287"
      },
      "source": [
        "num_words = len(tokenizer.word_index) + 1\n",
        "print(num_words)"
      ],
      "execution_count": 59,
      "outputs": [
        {
          "output_type": "stream",
          "text": [
            "26571\n"
          ],
          "name": "stdout"
        }
      ]
    },
    {
      "cell_type": "markdown",
      "metadata": {
        "id": "bUF1TuQa8ux0"
      },
      "source": [
        "### Load Glove Word Embeddings (5 Marks)"
      ]
    },
    {
      "cell_type": "code",
      "metadata": {
        "colab": {
          "base_uri": "https://localhost:8080/"
        },
        "id": "BF_FT2keJ03g",
        "outputId": "8604b4d1-d018-4ba5-e4c1-925313c35582"
      },
      "source": [
        "os.listdir()"
      ],
      "execution_count": 60,
      "outputs": [
        {
          "output_type": "execute_result",
          "data": {
            "text/plain": [
              "['Sarcasm_Headlines_Dataset.json',\n",
              " 'glove.6B.300d.txt',\n",
              " 'glove.6B.zip',\n",
              " 'glove.6B.100d.txt',\n",
              " 'glove.6B.50d.txt',\n",
              " 'glove.6B.200d.txt']"
            ]
          },
          "metadata": {
            "tags": []
          },
          "execution_count": 60
        }
      ]
    },
    {
      "cell_type": "markdown",
      "metadata": {
        "id": "prHSzdQUcZhm"
      },
      "source": [
        "### Create embedding matrix"
      ]
    },
    {
      "cell_type": "code",
      "metadata": {
        "id": "elZ-T5aFGZmZ"
      },
      "source": [
        "EMBEDDING_FILE = './glove.6B.200d.txt'\n",
        "\n",
        "embeddings = {}\n",
        "for o in open(EMBEDDING_FILE):\n",
        "    word = o.split(\" \")[0]\n",
        "    # print(word)\n",
        "    embd = o.split(\" \")[1:]\n",
        "    embd = np.asarray(embd, dtype='float32')\n",
        "    # print(embd)\n",
        "    embeddings[word] = embd\n",
        "\n",
        "# create a weight matrix for words in training docs\n",
        "embedding_matrix = np.zeros((num_words, 200))\n",
        "\n",
        "for word, i in tokenizer.word_index.items():\n",
        "\tembedding_vector = embeddings.get(word)\n",
        "\tif embedding_vector is not None:\n",
        "\t\tembedding_matrix[i] = embedding_vector"
      ],
      "execution_count": 61,
      "outputs": []
    },
    {
      "cell_type": "markdown",
      "metadata": {
        "id": "u7IbWuEX82Ra"
      },
      "source": [
        "### Define model (10 Marks)\n",
        "- Hint: Use Sequential model instance and then add Embedding layer, Bidirectional(LSTM) layer, flatten it, then dense and dropout layers as required. \n",
        "In the end add a final dense layer with sigmoid activation for binary classification."
      ]
    },
    {
      "cell_type": "code",
      "metadata": {
        "id": "zgcQ3mIfKw1M"
      },
      "source": [
        "from tensorflow.keras.models import Sequential\n",
        "from tensorflow.keras.layers import LSTM, Bidirectional, Dense, Embedding, Dropout\n",
        "from tensorflow.keras.optimizers import Adam"
      ],
      "execution_count": 62,
      "outputs": []
    },
    {
      "cell_type": "markdown",
      "metadata": {
        "id": "xoI7_8Y1cqTj"
      },
      "source": [
        "### Compile the model (5 Marks)"
      ]
    },
    {
      "cell_type": "code",
      "metadata": {
        "id": "6UgiuLg9R3Rm"
      },
      "source": [
        "model = Sequential()\n",
        "model.add(Embedding(num_words, embedding_size, weights=[embedding_matrix], input_length=25,  trainable=False))\n",
        "model.add(Bidirectional(LSTM(units=20)))\n",
        "model.add(Dense(40, activation='relu'))\n",
        "model.add(Dropout(0.4))\n",
        "model.add(Dense(20))\n",
        "model.add(Dense(1, activation='sigmoid'))"
      ],
      "execution_count": 63,
      "outputs": []
    },
    {
      "cell_type": "code",
      "metadata": {
        "colab": {
          "base_uri": "https://localhost:8080/"
        },
        "id": "BNqUnxIyLegr",
        "outputId": "4835f3e1-047f-4a07-fd28-9aed4f595982"
      },
      "source": [
        "model.summary()"
      ],
      "execution_count": 64,
      "outputs": [
        {
          "output_type": "stream",
          "text": [
            "Model: \"sequential\"\n",
            "_________________________________________________________________\n",
            "Layer (type)                 Output Shape              Param #   \n",
            "=================================================================\n",
            "embedding (Embedding)        (None, 25, 200)           5314200   \n",
            "_________________________________________________________________\n",
            "bidirectional (Bidirectional (None, 40)                35360     \n",
            "_________________________________________________________________\n",
            "dense (Dense)                (None, 40)                1640      \n",
            "_________________________________________________________________\n",
            "dropout (Dropout)            (None, 40)                0         \n",
            "_________________________________________________________________\n",
            "dense_1 (Dense)              (None, 20)                820       \n",
            "_________________________________________________________________\n",
            "dense_2 (Dense)              (None, 1)                 21        \n",
            "=================================================================\n",
            "Total params: 5,352,041\n",
            "Trainable params: 37,841\n",
            "Non-trainable params: 5,314,200\n",
            "_________________________________________________________________\n"
          ],
          "name": "stdout"
        }
      ]
    },
    {
      "cell_type": "code",
      "metadata": {
        "id": "wtrKxnfNLhNS"
      },
      "source": [
        "opt = Adam(learning_rate=0.001)\r\n",
        "model.compile(optimizer=opt, loss='binary_crossentropy', metrics=['accuracy'])"
      ],
      "execution_count": 65,
      "outputs": []
    },
    {
      "cell_type": "markdown",
      "metadata": {
        "id": "7s4nmqcecw3a"
      },
      "source": [
        "### Fit the model (5 Marks)"
      ]
    },
    {
      "cell_type": "code",
      "metadata": {
        "id": "NN789zNnJ5PL",
        "colab": {
          "base_uri": "https://localhost:8080/"
        },
        "outputId": "bbb99fb1-aead-4ab0-e604-f401dbea793e"
      },
      "source": [
        "model.fit(encodings_train, train_data['is_sarcastic'],  epochs=15, batch_size=32, \r\n",
        "          validation_data=(encodings_test, test_data['is_sarcastic']))"
      ],
      "execution_count": 68,
      "outputs": [
        {
          "output_type": "stream",
          "text": [
            "Epoch 1/15\n",
            "668/668 [==============================] - 5s 8ms/step - loss: 0.1192 - accuracy: 0.9543 - val_loss: 0.3991 - val_accuracy: 0.8648\n",
            "Epoch 2/15\n",
            "668/668 [==============================] - 5s 8ms/step - loss: 0.1015 - accuracy: 0.9623 - val_loss: 0.5063 - val_accuracy: 0.8618\n",
            "Epoch 3/15\n",
            "668/668 [==============================] - 5s 8ms/step - loss: 0.0875 - accuracy: 0.9680 - val_loss: 0.4736 - val_accuracy: 0.8611\n",
            "Epoch 4/15\n",
            "668/668 [==============================] - 5s 8ms/step - loss: 0.0694 - accuracy: 0.9749 - val_loss: 0.5629 - val_accuracy: 0.8579\n",
            "Epoch 5/15\n",
            "668/668 [==============================] - 5s 8ms/step - loss: 0.0638 - accuracy: 0.9771 - val_loss: 0.6314 - val_accuracy: 0.8594\n",
            "Epoch 6/15\n",
            "668/668 [==============================] - 5s 8ms/step - loss: 0.0544 - accuracy: 0.9803 - val_loss: 0.6651 - val_accuracy: 0.8562\n",
            "Epoch 7/15\n",
            "668/668 [==============================] - 5s 8ms/step - loss: 0.0462 - accuracy: 0.9825 - val_loss: 0.7123 - val_accuracy: 0.8572\n",
            "Epoch 8/15\n",
            "668/668 [==============================] - 5s 8ms/step - loss: 0.0422 - accuracy: 0.9842 - val_loss: 0.7807 - val_accuracy: 0.8592\n",
            "Epoch 9/15\n",
            "668/668 [==============================] - 5s 8ms/step - loss: 0.0368 - accuracy: 0.9880 - val_loss: 0.7853 - val_accuracy: 0.8581\n",
            "Epoch 10/15\n",
            "668/668 [==============================] - 5s 8ms/step - loss: 0.0340 - accuracy: 0.9877 - val_loss: 0.9067 - val_accuracy: 0.8508\n",
            "Epoch 11/15\n",
            "668/668 [==============================] - 5s 8ms/step - loss: 0.0297 - accuracy: 0.9891 - val_loss: 0.8286 - val_accuracy: 0.8506\n",
            "Epoch 12/15\n",
            "668/668 [==============================] - 5s 8ms/step - loss: 0.0290 - accuracy: 0.9894 - val_loss: 0.8270 - val_accuracy: 0.8491\n",
            "Epoch 13/15\n",
            "668/668 [==============================] - 5s 8ms/step - loss: 0.0288 - accuracy: 0.9897 - val_loss: 0.8934 - val_accuracy: 0.8545\n",
            "Epoch 14/15\n",
            "668/668 [==============================] - 5s 8ms/step - loss: 0.0250 - accuracy: 0.9909 - val_loss: 0.9469 - val_accuracy: 0.8545\n",
            "Epoch 15/15\n",
            "668/668 [==============================] - 5s 8ms/step - loss: 0.0230 - accuracy: 0.9922 - val_loss: 1.0268 - val_accuracy: 0.8547\n"
          ],
          "name": "stdout"
        },
        {
          "output_type": "execute_result",
          "data": {
            "text/plain": [
              "<tensorflow.python.keras.callbacks.History at 0x7ff4c8dc45c0>"
            ]
          },
          "metadata": {
            "tags": []
          },
          "execution_count": 68
        }
      ]
    },
    {
      "cell_type": "code",
      "metadata": {
        "colab": {
          "base_uri": "https://localhost:8080/"
        },
        "id": "a1apJ2A0L_kB",
        "outputId": "a1d6e015-a38a-45b8-fca7-631b4f3a4c2a"
      },
      "source": [
        "preds = model.predict_classes(encodings_test)"
      ],
      "execution_count": 70,
      "outputs": [
        {
          "output_type": "stream",
          "text": [
            "WARNING:tensorflow:From <ipython-input-70-ab5af4dbb7df>:1: Sequential.predict_classes (from tensorflow.python.keras.engine.sequential) is deprecated and will be removed after 2021-01-01.\n",
            "Instructions for updating:\n",
            "Please use instead:* `np.argmax(model.predict(x), axis=-1)`,   if your model does multi-class classification   (e.g. if it uses a `softmax` last-layer activation).* `(model.predict(x) > 0.5).astype(\"int32\")`,   if your model does binary classification   (e.g. if it uses a `sigmoid` last-layer activation).\n"
          ],
          "name": "stdout"
        }
      ]
    },
    {
      "cell_type": "code",
      "metadata": {
        "colab": {
          "base_uri": "https://localhost:8080/"
        },
        "id": "Qf_THskqMspF",
        "outputId": "b438ded0-9087-4a7d-e566-c65c5c616c5a"
      },
      "source": [
        "## predicting\r\n",
        "print('Headline -> ',input_data['headline'][25])\r\n",
        "print('Predicted -> ', preds[25][0])\r\n",
        "print('Actual -> ', input_data['is_sarcastic'][25])"
      ],
      "execution_count": 85,
      "outputs": [
        {
          "output_type": "stream",
          "text": [
            "Headline ->  why writers must plan to be surprised\n",
            "Predicted ->  0\n",
            "Actual ->  0\n"
          ],
          "name": "stdout"
        }
      ]
    },
    {
      "cell_type": "code",
      "metadata": {
        "colab": {
          "base_uri": "https://localhost:8080/"
        },
        "id": "puC5EuUSMxYT",
        "outputId": "4d5ab878-1c86-4808-972d-6cd10d508160"
      },
      "source": [
        "print('Headline -> ',input_data['headline'][27])\r\n",
        "print('Predicted -> ', preds[27][0])\r\n",
        "print('Actual -> ', input_data['is_sarcastic'][27])"
      ],
      "execution_count": 87,
      "outputs": [
        {
          "output_type": "stream",
          "text": [
            "Headline ->  ex-con back behind bar\n",
            "Predicted ->  1\n",
            "Actual ->  1\n"
          ],
          "name": "stdout"
        }
      ]
    },
    {
      "cell_type": "code",
      "metadata": {
        "colab": {
          "base_uri": "https://localhost:8080/"
        },
        "id": "8jdILWLONB_b",
        "outputId": "ad4013db-12eb-4782-c52e-f7d06eea9237"
      },
      "source": [
        "from sklearn.metrics import classification_report\r\n",
        "print(classification_report(test_data['is_sarcastic'],preds))"
      ],
      "execution_count": 90,
      "outputs": [
        {
          "output_type": "stream",
          "text": [
            "              precision    recall  f1-score   support\n",
            "\n",
            "           0       0.86      0.89      0.87      2995\n",
            "           1       0.85      0.82      0.83      2347\n",
            "\n",
            "    accuracy                           0.85      5342\n",
            "   macro avg       0.85      0.85      0.85      5342\n",
            "weighted avg       0.85      0.85      0.85      5342\n",
            "\n"
          ],
          "name": "stdout"
        }
      ]
    },
    {
      "cell_type": "code",
      "metadata": {
        "id": "3f1-6Tk8O0X6"
      },
      "source": [
        "# Here in total \r\n",
        "#How many relevant items selected for 0 -> 89%\r\n",
        "#How many relevant items selected  for 1 ->  82%\r\n",
        "#----------------------------------------------------\r\n",
        "#How many selected items relevant for 0 -> 86%\r\n",
        "#How many selected items relevant for 1 -> 85%\r\n",
        "#----------------------------------------------------\r\n",
        "#Overall accuracy -> 85%"
      ],
      "execution_count": null,
      "outputs": []
    }
  ]
}