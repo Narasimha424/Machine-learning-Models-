{
 "cells": [
  {
   "cell_type": "code",
   "execution_count": 26,
   "metadata": {},
   "outputs": [
    {
     "data": {
      "text/plain": [
       "'2.3.0'"
      ]
     },
     "execution_count": 26,
     "metadata": {},
     "output_type": "execute_result"
    }
   ],
   "source": [
    "import tensorflow\n",
    "tensorflow.__version__"
   ]
  },
  {
   "cell_type": "code",
   "execution_count": 105,
   "metadata": {},
   "outputs": [],
   "source": [
    "# Package intended to work with arrays\n",
    "import numpy as np\n",
    "import h5py\n",
    "import matplotlib.pyplot as plt\n",
    "import matplotlib.pyplot as plt\n",
    "\n",
    "from sklearn.model_selection import train_test_split\n",
    "from tensorflow.keras.datasets import fashion_mnist\n",
    "from tensorflow.keras.models import Sequential\n",
    "from tensorflow.keras.utils import to_categorical\n",
    "from tensorflow.keras.layers import Activation, Dense\n",
    "from tensorflow.keras import optimizers\n",
    "from tensorflow.keras.layers import BatchNormalization, Dropout\n",
    "from sklearn.metrics import accuracy_score, confusion_matrix, precision_score, recall_score, f1_score, precision_recall_curve, auc"
   ]
  },
  {
   "cell_type": "code",
   "execution_count": 41,
   "metadata": {},
   "outputs": [],
   "source": [
    "# Initialize the random number generator\n",
    "import random\n",
    "random.seed(0)\n",
    "\n",
    "# Ignore the warnings\n",
    "import warnings\n",
    "warnings.filterwarnings(\"ignore\")"
   ]
  },
  {
   "cell_type": "markdown",
   "metadata": {},
   "source": [
    "# 1.Load Dataset"
   ]
  },
  {
   "cell_type": "code",
   "execution_count": 149,
   "metadata": {},
   "outputs": [],
   "source": [
    "h5f=h5py.File('D:/Python_notebooks/Neural_Networks/Project/SVHN_single_grey1.h5','r')"
   ]
  },
  {
   "cell_type": "markdown",
   "metadata": {},
   "source": [
    "# 2.Understand the basic Image Classification pipeline and the data-driven approach (train/predict stages)"
   ]
  },
  {
   "cell_type": "code",
   "execution_count": 150,
   "metadata": {},
   "outputs": [],
   "source": [
    "#Splitting into data into train and test stages.\n",
    "#Fitting the model on Train data and testing of accuracy and loss on test data "
   ]
  },
  {
   "cell_type": "markdown",
   "metadata": {},
   "source": [
    "# 3.Data fetching and understand the train/val/test splits"
   ]
  },
  {
   "cell_type": "code",
   "execution_count": 151,
   "metadata": {},
   "outputs": [],
   "source": [
    "X_train=h5f['X_train'][:]\n",
    "y_train=h5f['y_train'][:]\n",
    "\n",
    "X_test=h5f['X_test'][:]\n",
    "y_test=h5f['y_test'][:]"
   ]
  },
  {
   "cell_type": "code",
   "execution_count": 152,
   "metadata": {},
   "outputs": [
    {
     "name": "stdout",
     "output_type": "stream",
     "text": [
      "(42000, 32, 32)\n",
      "(42000,)\n"
     ]
    }
   ],
   "source": [
    "print(X_train.shape) ##Training set size\n",
    "print(y_train.shape)  #Training set lables "
   ]
  },
  {
   "cell_type": "code",
   "execution_count": 153,
   "metadata": {},
   "outputs": [
    {
     "name": "stdout",
     "output_type": "stream",
     "text": [
      "(18000, 32, 32)\n",
      "(18000,)\n"
     ]
    }
   ],
   "source": [
    "print(X_test.shape) #Test set size\n",
    "print(y_test.shape)  # Test set lables"
   ]
  },
  {
   "cell_type": "code",
   "execution_count": 171,
   "metadata": {},
   "outputs": [
    {
     "data": {
      "image/png": "[encoded data removed]",
      "text/plain": [
       "<Figure size 432x288 with 1 Axes>"
      ]
     },
     "metadata": {
      "needs_background": "light"
     },
     "output_type": "display_data"
    },
    {
     "name": "stdout",
     "output_type": "stream",
     "text": [
      "Label:  2\n"
     ]
    }
   ],
   "source": [
    "\n",
    "plt.imshow(X_train[0])    # show first number in the dataset\n",
    "plt.show()\n",
    "\n",
    "print( 'Label: ', y_train[0]) # It's label"
   ]
  },
  {
   "cell_type": "code",
   "execution_count": 169,
   "metadata": {},
   "outputs": [
    {
     "data": {
      "image/png": "[encoded data removed]",
      "text/plain": [
       "<Figure size 432x288 with 1 Axes>"
      ]
     },
     "metadata": {
      "needs_background": "light"
     },
     "output_type": "display_data"
    },
    {
     "name": "stdout",
     "output_type": "stream",
     "text": [
      "Label 6\n"
     ]
    }
   ],
   "source": [
    "\n",
    "plt.imshow(X_train[20])    # show first number in the dataset\n",
    "plt.show()\n",
    "\n",
    "print( 'Label',y_train[20]) # It's label"
   ]
  },
  {
   "cell_type": "code",
   "execution_count": 168,
   "metadata": {},
   "outputs": [
    {
     "data": {
      "image/png": "[encoded data removed]",
      "text/plain": [
       "<Figure size 432x288 with 1 Axes>"
      ]
     },
     "metadata": {
      "needs_background": "light"
     },
     "output_type": "display_data"
    },
    {
     "name": "stdout",
     "output_type": "stream",
     "text": [
      "Label:  7\n"
     ]
    }
   ],
   "source": [
    "plt.imshow(X_train[5000],cmap=\"gray\")    # show first number in the dataset\n",
    "plt.show()\n",
    "\n",
    "print( 'Label: ',y_train[5000]) # It's label\n",
    "\n"
   ]
  },
  {
   "cell_type": "markdown",
   "metadata": {},
   "source": [
    "Data Pre-processing"
   ]
  },
  {
   "cell_type": "code",
   "execution_count": 61,
   "metadata": {},
   "outputs": [],
   "source": [
    "# reshaping X data: (n, 32, 32) => (n, 1024)\n",
    "X_train = X_train.reshape((X_train.shape[0], -1))\n",
    "X_test = X_test.reshape((X_test.shape[0], -1))"
   ]
  },
  {
   "cell_type": "code",
   "execution_count": 62,
   "metadata": {},
   "outputs": [],
   "source": [
    "# converting y data into categorical (one-hot encoding)\n",
    "y_train = to_categorical(y_train)\n",
    "y_test = to_categorical(y_test)"
   ]
  },
  {
   "cell_type": "code",
   "execution_count": 63,
   "metadata": {},
   "outputs": [
    {
     "name": "stdout",
     "output_type": "stream",
     "text": [
      "(42000, 1024) (18000, 1024) (42000, 10) (18000, 10)\n"
     ]
    }
   ],
   "source": [
    "print(X_train.shape, X_test.shape, y_train.shape, y_test.shape)"
   ]
  },
  {
   "cell_type": "markdown",
   "metadata": {},
   "source": [
    "# 4. Implement and apply a deep neural network classifier including (feedforward neural network, RELU, activations) (25 points) "
   ]
  },
  {
   "cell_type": "code",
   "execution_count": 68,
   "metadata": {},
   "outputs": [],
   "source": [
    "# Here building NN with 3 hidden layers, relu as Activation function, sgd as an optimizer, and 50 as hidden nurons\n",
    "#   softmax as activation function at last stage due to the multi classifier, categorical_crossentropy as loss function and learning rate 0.001\n",
    "\n",
    "def svhn_model():\n",
    "    model = Sequential()\n",
    "    \n",
    "    model.add(Dense(50, input_shape = (1024, )))\n",
    "    model.add(Activation('relu'))    \n",
    "    model.add(Dense(50))\n",
    "    model.add(Activation('relu'))    \n",
    "    model.add(Dense(50))\n",
    "    model.add(Activation('relu'))    \n",
    "    model.add(Dense(50))\n",
    "    model.add(Activation('relu'))    \n",
    "    model.add(Dense(10))\n",
    "    model.add(Activation('softmax'))\n",
    "    \n",
    "    sgd = optimizers.SGD(lr = 0.001)\n",
    "    model.compile(optimizer = sgd, loss = 'categorical_crossentropy', metrics = ['accuracy'])\n",
    "    \n",
    "    return model\n"
   ]
  },
  {
   "cell_type": "code",
   "execution_count": 69,
   "metadata": {},
   "outputs": [
    {
     "name": "stdout",
     "output_type": "stream",
     "text": [
      "Epoch 1/10\n",
      "1313/1313 [==============================] - 1s 778us/step - loss: 2.9514 - accuracy: 0.0994\n",
      "Epoch 2/10\n",
      "1313/1313 [==============================] - 1s 740us/step - loss: 2.3018 - accuracy: 0.0999\n",
      "Epoch 3/10\n",
      "1313/1313 [==============================] - 1s 728us/step - loss: 2.3013 - accuracy: 0.1021\n",
      "Epoch 4/10\n",
      "1313/1313 [==============================] - 1s 752us/step - loss: 2.3025 - accuracy: 0.1016\n",
      "Epoch 5/10\n",
      "1313/1313 [==============================] - 1s 760us/step - loss: 2.3024 - accuracy: 0.1005\n",
      "Epoch 6/10\n",
      "1313/1313 [==============================] - 1s 752us/step - loss: 2.3023 - accuracy: 0.1019\n",
      "Epoch 7/10\n",
      "1313/1313 [==============================] - 1s 741us/step - loss: 2.3014 - accuracy: 0.1056\n",
      "Epoch 8/10\n",
      "1313/1313 [==============================] - 1s 748us/step - loss: 2.2929 - accuracy: 0.1161\n",
      "Epoch 9/10\n",
      "1313/1313 [==============================] - 1s 755us/step - loss: 2.2750 - accuracy: 0.1246\n",
      "Epoch 10/10\n",
      "1313/1313 [==============================] - 1s 771us/step - loss: 2.2635 - accuracy: 0.1257\n"
     ]
    }
   ],
   "source": [
    "model = svhn_model()\n",
    "history = model.fit(X_train, y_train, epochs = 10, verbose = 1)"
   ]
  },
  {
   "cell_type": "code",
   "execution_count": 71,
   "metadata": {},
   "outputs": [
    {
     "name": "stdout",
     "output_type": "stream",
     "text": [
      "  1/563 [..............................] - ETA: 0s - loss: 2.2722 - accuracy: 0.0938WARNING:tensorflow:Callbacks method `on_test_batch_end` is slow compared to the batch time (batch time: 0.0000s vs `on_test_batch_end` time: 0.0010s). Check your callbacks.\n",
      "563/563 [==============================] - 0s 589us/step - loss: 2.2663 - accuracy: 0.1261\n"
     ]
    }
   ],
   "source": [
    "results = model.evaluate(X_test, y_test)"
   ]
  },
  {
   "cell_type": "code",
   "execution_count": 72,
   "metadata": {},
   "outputs": [
    {
     "name": "stdout",
     "output_type": "stream",
     "text": [
      "Test accuracy:  0.12611110508441925\n"
     ]
    }
   ],
   "source": [
    "##For the above Model,  loss: 2.2663 - accuracy: 0.1261.Both are not up to the mark \n",
    "#loss is high  and  accuracy is low\n",
    "\n",
    "print('Test accuracy: ', results[1])"
   ]
  },
  {
   "cell_type": "markdown",
   "metadata": {},
   "source": [
    "# 5.Implement batch normalization for training the neural network"
   ]
  },
  {
   "cell_type": "markdown",
   "metadata": {},
   "source": [
    "Batch Normalization, one of the methods to prevent the \"internal covariance shift\" problem, has proven to be highly effective\n",
    "Normalize each mini-batch before nonlinearity\n",
    "Batch normalization layer is usually inserted after dense/convolution and before nonlinearity\n"
   ]
  },
  {
   "cell_type": "code",
   "execution_count": 74,
   "metadata": {},
   "outputs": [],
   "source": [
    "    def svhn_batch_model():\n",
    "        model = Sequential()\n",
    "\n",
    "        model.add(Dense(50, input_shape = (1024, )))\n",
    "        model.add(BatchNormalization())                    \n",
    "        model.add(Activation('relu'))    \n",
    "        model.add(Dense(50))\n",
    "        model.add(BatchNormalization())                    \n",
    "        model.add(Activation('relu'))    \n",
    "        model.add(Dense(50))\n",
    "        model.add(BatchNormalization())                    \n",
    "        model.add(Activation('relu'))    \n",
    "        model.add(Dense(50))\n",
    "        model.add(BatchNormalization())                    \n",
    "        model.add(Activation('relu'))    \n",
    "        model.add(Dense(10))\n",
    "        model.add(Activation('softmax'))\n",
    "\n",
    "        sgd = optimizers.SGD(lr = 0.001)\n",
    "        model.compile(optimizer = sgd, loss = 'categorical_crossentropy', metrics = ['accuracy'])\n",
    "\n",
    "        return model"
   ]
  },
  {
   "cell_type": "code",
   "execution_count": 76,
   "metadata": {},
   "outputs": [
    {
     "name": "stdout",
     "output_type": "stream",
     "text": [
      "Epoch 1/50\n",
      "1313/1313 [==============================] - 1s 1ms/step - loss: 2.3984 - accuracy: 0.1343\n",
      "Epoch 2/50\n",
      "1313/1313 [==============================] - 1s 1ms/step - loss: 2.1636 - accuracy: 0.2285\n",
      "Epoch 3/50\n",
      "1313/1313 [==============================] - 1s 1ms/step - loss: 1.9844 - accuracy: 0.3172\n",
      "Epoch 4/50\n",
      "1313/1313 [==============================] - 1s 1ms/step - loss: 1.8303 - accuracy: 0.3875\n",
      "Epoch 5/50\n",
      "1313/1313 [==============================] - 2s 1ms/step - loss: 1.7030 - accuracy: 0.4409\n",
      "Epoch 6/50\n",
      "1313/1313 [==============================] - 1s 1ms/step - loss: 1.5983 - accuracy: 0.4796\n",
      "Epoch 7/50\n",
      "1313/1313 [==============================] - 1s 1ms/step - loss: 1.5053 - accuracy: 0.5168\n",
      "Epoch 8/50\n",
      "1313/1313 [==============================] - 1s 1ms/step - loss: 1.4408 - accuracy: 0.5365\n",
      "Epoch 9/50\n",
      "1313/1313 [==============================] - 1s 1ms/step - loss: 1.3847 - accuracy: 0.5589\n",
      "Epoch 10/50\n",
      "1313/1313 [==============================] - 2s 1ms/step - loss: 1.3322 - accuracy: 0.5745\n",
      "Epoch 11/50\n",
      "1313/1313 [==============================] - 2s 1ms/step - loss: 1.2937 - accuracy: 0.5886\n",
      "Epoch 12/50\n",
      "1313/1313 [==============================] - 2s 1ms/step - loss: 1.2559 - accuracy: 0.6028\n",
      "Epoch 13/50\n",
      "1313/1313 [==============================] - 2s 1ms/step - loss: 1.2222 - accuracy: 0.6147\n",
      "Epoch 14/50\n",
      "1313/1313 [==============================] - 2s 1ms/step - loss: 1.2024 - accuracy: 0.6171\n",
      "Epoch 15/50\n",
      "1313/1313 [==============================] - 2s 1ms/step - loss: 1.1742 - accuracy: 0.6303\n",
      "Epoch 16/50\n",
      "1313/1313 [==============================] - 2s 1ms/step - loss: 1.1552 - accuracy: 0.6361\n",
      "Epoch 17/50\n",
      "1313/1313 [==============================] - 2s 1ms/step - loss: 1.1245 - accuracy: 0.6469\n",
      "Epoch 18/50\n",
      "1313/1313 [==============================] - 2s 1ms/step - loss: 1.1142 - accuracy: 0.6483\n",
      "Epoch 19/50\n",
      "1313/1313 [==============================] - 2s 1ms/step - loss: 1.0935 - accuracy: 0.6554\n",
      "Epoch 20/50\n",
      "1313/1313 [==============================] - 2s 1ms/step - loss: 1.0794 - accuracy: 0.6622\n",
      "Epoch 21/50\n",
      "1313/1313 [==============================] - 2s 1ms/step - loss: 1.0665 - accuracy: 0.6632\n",
      "Epoch 22/50\n",
      "1313/1313 [==============================] - 2s 1ms/step - loss: 1.0528 - accuracy: 0.6705\n",
      "Epoch 23/50\n",
      "1313/1313 [==============================] - 2s 1ms/step - loss: 1.0389 - accuracy: 0.6726\n",
      "Epoch 24/50\n",
      "1313/1313 [==============================] - 2s 1ms/step - loss: 1.0258 - accuracy: 0.6762\n",
      "Epoch 25/50\n",
      "1313/1313 [==============================] - 2s 1ms/step - loss: 1.0183 - accuracy: 0.6795\n",
      "Epoch 26/50\n",
      "1313/1313 [==============================] - 2s 1ms/step - loss: 1.0109 - accuracy: 0.6820\n",
      "Epoch 27/50\n",
      "1313/1313 [==============================] - 2s 1ms/step - loss: 0.9995 - accuracy: 0.6861\n",
      "Epoch 28/50\n",
      "1313/1313 [==============================] - 2s 1ms/step - loss: 0.9867 - accuracy: 0.6900\n",
      "Epoch 29/50\n",
      "1313/1313 [==============================] - 2s 1ms/step - loss: 0.9753 - accuracy: 0.6939\n",
      "Epoch 30/50\n",
      "1313/1313 [==============================] - 2s 1ms/step - loss: 0.9747 - accuracy: 0.6916\n",
      "Epoch 31/50\n",
      "1313/1313 [==============================] - 2s 1ms/step - loss: 0.9625 - accuracy: 0.6963\n",
      "Epoch 32/50\n",
      "1313/1313 [==============================] - 2s 1ms/step - loss: 0.9501 - accuracy: 0.7015\n",
      "Epoch 33/50\n",
      "1313/1313 [==============================] - 2s 1ms/step - loss: 0.9420 - accuracy: 0.7026\n",
      "Epoch 34/50\n",
      "1313/1313 [==============================] - 2s 1ms/step - loss: 0.9300 - accuracy: 0.7074\n",
      "Epoch 35/50\n",
      "1313/1313 [==============================] - 2s 1ms/step - loss: 0.9257 - accuracy: 0.7084\n",
      "Epoch 36/50\n",
      "1313/1313 [==============================] - 2s 1ms/step - loss: 0.9188 - accuracy: 0.7115\n",
      "Epoch 37/50\n",
      "1313/1313 [==============================] - 2s 1ms/step - loss: 0.9127 - accuracy: 0.7135\n",
      "Epoch 38/50\n",
      "1313/1313 [==============================] - 2s 1ms/step - loss: 0.9019 - accuracy: 0.7176\n",
      "Epoch 39/50\n",
      "1313/1313 [==============================] - 2s 1ms/step - loss: 0.8978 - accuracy: 0.7181\n",
      "Epoch 40/50\n",
      "1313/1313 [==============================] - 2s 1ms/step - loss: 0.8903 - accuracy: 0.7197\n",
      "Epoch 41/50\n",
      "1313/1313 [==============================] - 2s 1ms/step - loss: 0.8839 - accuracy: 0.7209\n",
      "Epoch 42/50\n",
      "1313/1313 [==============================] - 2s 1ms/step - loss: 0.8781 - accuracy: 0.7222\n",
      "Epoch 43/50\n",
      "1313/1313 [==============================] - 2s 1ms/step - loss: 0.8751 - accuracy: 0.7270\n",
      "Epoch 44/50\n",
      "1313/1313 [==============================] - 2s 1ms/step - loss: 0.8637 - accuracy: 0.7283\n",
      "Epoch 45/50\n",
      "1313/1313 [==============================] - 2s 1ms/step - loss: 0.8598 - accuracy: 0.7305\n",
      "Epoch 46/50\n",
      "1313/1313 [==============================] - 2s 1ms/step - loss: 0.8577 - accuracy: 0.7314\n",
      "Epoch 47/50\n",
      "1313/1313 [==============================] - 2s 1ms/step - loss: 0.8525 - accuracy: 0.7348\n",
      "Epoch 48/50\n",
      "1313/1313 [==============================] - 2s 1ms/step - loss: 0.8539 - accuracy: 0.7330\n",
      "Epoch 49/50\n",
      "1313/1313 [==============================] - 2s 1ms/step - loss: 0.8362 - accuracy: 0.7377\n",
      "Epoch 50/50\n",
      "1313/1313 [==============================] - 2s 1ms/step - loss: 0.8375 - accuracy: 0.7371\n"
     ]
    }
   ],
   "source": [
    "model = svhn_batch_model()\n",
    "history1 = model.fit(X_train, y_train, epochs = 50, verbose = 1) ## Running for 50 Epochs\n"
   ]
  },
  {
   "cell_type": "code",
   "execution_count": 77,
   "metadata": {},
   "outputs": [
    {
     "name": "stdout",
     "output_type": "stream",
     "text": [
      "563/563 [==============================] - 0s 660us/step - loss: 0.8349 - accuracy: 0.7466\n"
     ]
    }
   ],
   "source": [
    "results = model.evaluate(X_test, y_test)"
   ]
  },
  {
   "cell_type": "code",
   "execution_count": 79,
   "metadata": {},
   "outputs": [
    {
     "name": "stdout",
     "output_type": "stream",
     "text": [
      "Test accuracy:  0.7466111183166504\n"
     ]
    }
   ],
   "source": [
    "print('Test accuracy: ', results[1])  ## After 50 epochs, model provided 74 % accuracy on the test."
   ]
  },
  {
   "cell_type": "markdown",
   "metadata": {},
   "source": [
    "Optimization:"
   ]
  },
  {
   "cell_type": "markdown",
   "metadata": {},
   "source": [
    "# Here NN is implemented with Dropout, weight initializer,adam optimizer along with batch normalization to improve accuracy and reduce the loss"
   ]
  },
  {
   "cell_type": "code",
   "execution_count": 94,
   "metadata": {},
   "outputs": [],
   "source": [
    "def svhn_batch_optimized_model():\n",
    "    model = Sequential()\n",
    "    \n",
    "    model.add(Dense(200, input_shape = (1024, ), kernel_initializer='he_normal'))\n",
    "    model.add(BatchNormalization())\n",
    "    model.add(Activation('relu'))\n",
    "    model.add(Dropout(0.2))\n",
    "    model.add(Dense(200, kernel_initializer='he_normal'))\n",
    "    model.add(BatchNormalization())\n",
    "    model.add(Activation('relu'))    \n",
    "    model.add(Dropout(0.2))\n",
    "    model.add(Dense(200, kernel_initializer='he_normal'))\n",
    "    model.add(BatchNormalization())\n",
    "    model.add(Activation('relu'))\n",
    "    model.add(Dropout(0.2))\n",
    "    model.add(Dense(200, kernel_initializer='he_normal'))\n",
    "    model.add(BatchNormalization())\n",
    "    model.add(Activation('relu'))\n",
    "    model.add(Dropout(0.2))\n",
    "    model.add(Dense(10, kernel_initializer='he_normal'))\n",
    "    model.add(Activation('softmax'))\n",
    "    \n",
    "    adam = optimizers.Adam(lr = 0.001)\n",
    "    model.compile(optimizer = adam, loss = 'categorical_crossentropy', metrics = ['accuracy'])\n",
    "    \n",
    "    return model"
   ]
  },
  {
   "cell_type": "code",
   "execution_count": 97,
   "metadata": {},
   "outputs": [
    {
     "name": "stdout",
     "output_type": "stream",
     "text": [
      "Epoch 1/50\n",
      "1313/1313 [==============================] - 5s 4ms/step - loss: 1.8170 - accuracy: 0.3674\n",
      "Epoch 2/50\n",
      "1313/1313 [==============================] - 9s 7ms/step - loss: 1.2983 - accuracy: 0.5766\n",
      "Epoch 3/50\n",
      "1313/1313 [==============================] - 9s 7ms/step - loss: 1.1500 - accuracy: 0.6311\n",
      "Epoch 4/50\n",
      "1313/1313 [==============================] - 9s 7ms/step - loss: 1.0655 - accuracy: 0.6595\n",
      "Epoch 5/50\n",
      "1313/1313 [==============================] - 9s 7ms/step - loss: 1.0190 - accuracy: 0.6752\n",
      "Epoch 6/50\n",
      "1313/1313 [==============================] - 9s 7ms/step - loss: 0.9657 - accuracy: 0.6949\n",
      "Epoch 7/50\n",
      "1313/1313 [==============================] - 9s 7ms/step - loss: 0.9264 - accuracy: 0.7087\n",
      "Epoch 8/50\n",
      "1313/1313 [==============================] - 9s 7ms/step - loss: 0.8936 - accuracy: 0.7167\n",
      "Epoch 9/50\n",
      "1313/1313 [==============================] - 9s 7ms/step - loss: 0.8696 - accuracy: 0.7253\n",
      "Epoch 10/50\n",
      "1313/1313 [==============================] - 9s 7ms/step - loss: 0.8407 - accuracy: 0.7346\n",
      "Epoch 11/50\n",
      "1313/1313 [==============================] - 9s 7ms/step - loss: 0.8265 - accuracy: 0.7392\n",
      "Epoch 12/50\n",
      "1313/1313 [==============================] - 9s 7ms/step - loss: 0.8029 - accuracy: 0.7478\n",
      "Epoch 13/50\n",
      "1313/1313 [==============================] - 9s 7ms/step - loss: 0.7828 - accuracy: 0.7524\n",
      "Epoch 14/50\n",
      "1313/1313 [==============================] - 9s 7ms/step - loss: 0.7736 - accuracy: 0.7583\n",
      "Epoch 15/50\n",
      "1313/1313 [==============================] - 9s 7ms/step - loss: 0.7626 - accuracy: 0.7573\n",
      "Epoch 16/50\n",
      "1313/1313 [==============================] - 9s 7ms/step - loss: 0.7416 - accuracy: 0.7659\n",
      "Epoch 17/50\n",
      "1313/1313 [==============================] - 10s 8ms/step - loss: 0.7395 - accuracy: 0.7675\n",
      "Epoch 18/50\n",
      "1313/1313 [==============================] - 10s 8ms/step - loss: 0.7293 - accuracy: 0.7704\n",
      "Epoch 19/50\n",
      "1313/1313 [==============================] - 11s 8ms/step - loss: 0.7231 - accuracy: 0.7715\n",
      "Epoch 20/50\n",
      "1313/1313 [==============================] - 10s 8ms/step - loss: 0.7127 - accuracy: 0.7745\n",
      "Epoch 21/50\n",
      "1313/1313 [==============================] - 11s 8ms/step - loss: 0.7039 - accuracy: 0.7769\n",
      "Epoch 22/50\n",
      "1313/1313 [==============================] - 10s 8ms/step - loss: 0.6974 - accuracy: 0.7782\n",
      "Epoch 23/50\n",
      "1313/1313 [==============================] - 11s 8ms/step - loss: 0.6876 - accuracy: 0.7820\n",
      "Epoch 24/50\n",
      "1313/1313 [==============================] - 10s 8ms/step - loss: 0.6793 - accuracy: 0.7855\n",
      "Epoch 25/50\n",
      "1313/1313 [==============================] - 10s 8ms/step - loss: 0.6710 - accuracy: 0.7885\n",
      "Epoch 26/50\n",
      "1313/1313 [==============================] - 10s 8ms/step - loss: 0.6689 - accuracy: 0.7907\n",
      "Epoch 27/50\n",
      "1313/1313 [==============================] - 10s 8ms/step - loss: 0.6660 - accuracy: 0.7894\n",
      "Epoch 28/50\n",
      "1313/1313 [==============================] - 10s 8ms/step - loss: 0.6582 - accuracy: 0.7925\n",
      "Epoch 29/50\n",
      "1313/1313 [==============================] - 10s 8ms/step - loss: 0.6496 - accuracy: 0.7943\n",
      "Epoch 30/50\n",
      "1313/1313 [==============================] - 10s 8ms/step - loss: 0.6461 - accuracy: 0.7954\n",
      "Epoch 31/50\n",
      "1313/1313 [==============================] - 10s 8ms/step - loss: 0.6420 - accuracy: 0.7990\n",
      "Epoch 32/50\n",
      "1313/1313 [==============================] - 10s 8ms/step - loss: 0.6395 - accuracy: 0.7983\n",
      "Epoch 33/50\n",
      "1313/1313 [==============================] - 10s 8ms/step - loss: 0.6361 - accuracy: 0.7990\n",
      "Epoch 34/50\n",
      "1313/1313 [==============================] - 10s 8ms/step - loss: 0.6282 - accuracy: 0.8007\n",
      "Epoch 35/50\n",
      "1313/1313 [==============================] - 10s 8ms/step - loss: 0.6269 - accuracy: 0.8012\n",
      "Epoch 36/50\n",
      "1313/1313 [==============================] - 10s 8ms/step - loss: 0.6164 - accuracy: 0.8045\n",
      "Epoch 37/50\n",
      "1313/1313 [==============================] - 10s 8ms/step - loss: 0.6128 - accuracy: 0.8065\n",
      "Epoch 38/50\n",
      "1313/1313 [==============================] - 10s 8ms/step - loss: 0.6114 - accuracy: 0.8065\n",
      "Epoch 39/50\n",
      "1313/1313 [==============================] - 10s 8ms/step - loss: 0.6051 - accuracy: 0.8069\n",
      "Epoch 40/50\n",
      "1313/1313 [==============================] - 10s 8ms/step - loss: 0.6063 - accuracy: 0.8085\n",
      "Epoch 41/50\n",
      "1313/1313 [==============================] - 10s 8ms/step - loss: 0.6093 - accuracy: 0.8068\n",
      "Epoch 42/50\n",
      "1313/1313 [==============================] - 11s 8ms/step - loss: 0.5999 - accuracy: 0.8105\n",
      "Epoch 43/50\n",
      "1313/1313 [==============================] - 11s 8ms/step - loss: 0.5952 - accuracy: 0.8127\n",
      "Epoch 44/50\n",
      "1313/1313 [==============================] - 11s 8ms/step - loss: 0.5924 - accuracy: 0.8138\n",
      "Epoch 45/50\n",
      "1313/1313 [==============================] - 10s 8ms/step - loss: 0.5827 - accuracy: 0.8151\n",
      "Epoch 46/50\n",
      "1313/1313 [==============================] - 10s 8ms/step - loss: 0.5903 - accuracy: 0.8128\n",
      "Epoch 47/50\n",
      "1313/1313 [==============================] - 10s 8ms/step - loss: 0.5892 - accuracy: 0.8151\n",
      "Epoch 48/50\n",
      "1313/1313 [==============================] - 10s 8ms/step - loss: 0.5877 - accuracy: 0.8132\n",
      "Epoch 49/50\n",
      "1313/1313 [==============================] - 10s 8ms/step - loss: 0.5856 - accuracy: 0.8144\n",
      "Epoch 50/50\n",
      "1313/1313 [==============================] - 10s 8ms/step - loss: 0.5743 - accuracy: 0.8176\n"
     ]
    }
   ],
   "source": [
    "model = svhn_batch_optimized_model()\n",
    "history2 = model.fit(X_train, y_train, epochs = 50, verbose = 1)\n"
   ]
  },
  {
   "cell_type": "code",
   "execution_count": 102,
   "metadata": {},
   "outputs": [
    {
     "name": "stdout",
     "output_type": "stream",
     "text": [
      "563/563 [==============================] - 1s 2ms/step - loss: 0.4360 - accuracy: 0.8706\n"
     ]
    }
   ],
   "source": [
    "results = model.evaluate(X_test, y_test)"
   ]
  },
  {
   "cell_type": "markdown",
   "metadata": {},
   "source": [
    "# 6.Print the classification accuracy metrics"
   ]
  },
  {
   "cell_type": "code",
   "execution_count": 103,
   "metadata": {},
   "outputs": [
    {
     "name": "stdout",
     "output_type": "stream",
     "text": [
      "['loss', 'accuracy']\n",
      "[0.4360351264476776, 0.870555579662323]\n"
     ]
    }
   ],
   "source": [
    "#This model provided accuracy with 87% and loss with 0.436\n",
    "print(model.metrics_names)\n",
    "print(results)"
   ]
  },
  {
   "cell_type": "markdown",
   "metadata": {},
   "source": [
    "For NN, that contains 50 Hidden neurons and with relu as the activation function, and with 10 Epochs, the Model provided the accuracy 12 % and loss  as 2.2635\n",
    "\n",
    "But NN that implemented with Dropout, weight initializer,adam optimizer, 50 epochs, 200 hidden neurons along with batch normalization improved accuracy and reduce the loss to 87% and 0.43 respectively."
   ]
  },
  {
   "cell_type": "code",
   "execution_count": null,
   "metadata": {},
   "outputs": [],
   "source": []
  },
  {
   "cell_type": "code",
   "execution_count": null,
   "metadata": {},
   "outputs": [],
   "source": []
  },
  {
   "cell_type": "code",
   "execution_count": null,
   "metadata": {},
   "outputs": [],
   "source": []
  },
  {
   "cell_type": "markdown",
   "metadata": {},
   "source": []
  },
  {
   "cell_type": "code",
   "execution_count": null,
   "metadata": {},
   "outputs": [],
   "source": []
  },
  {
   "cell_type": "code",
   "execution_count": null,
   "metadata": {},
   "outputs": [],
   "source": []
  }
 ],
 "metadata": {
  "kernelspec": {
   "display_name": "Python 3",
   "language": "python",
   "name": "python3"
  },
  "language_info": {
   "codemirror_mode": {
    "name": "ipython",
    "version": 3
   },
   "file_extension": ".py",
   "mimetype": "text/x-python",
   "name": "python",
   "nbconvert_exporter": "python",
   "pygments_lexer": "ipython3",
   "version": "3.7.6"
  }
 },
 "nbformat": 4,
 "nbformat_minor": 4
}
