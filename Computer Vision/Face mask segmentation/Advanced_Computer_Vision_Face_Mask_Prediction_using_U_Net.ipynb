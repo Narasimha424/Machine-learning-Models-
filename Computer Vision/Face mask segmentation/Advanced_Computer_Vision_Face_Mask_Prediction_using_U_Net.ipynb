{
 "cells": [
  {
   "cell_type": "markdown",
   "metadata": {
    "id": "q24VEuL2PbvT"
   },
   "source": [
    "![alt text](https://drive.google.com/uc?export=view&id=1UXScsVx_Wni_JuDdB8LeTnM6jsPfIwkW)\n",
    "\n",
    "Proprietary content. © Great Learning. All Rights Reserved. Unauthorized use or distribution prohibited."
   ]
  },
  {
   "cell_type": "markdown",
   "metadata": {
    "id": "NgR0j5310qqC"
   },
   "source": [
    "# Face Mask Prediction using U-Net\n",
    "Task is to predict the mask around the face in a given image."
   ]
  },
  {
   "cell_type": "markdown",
   "metadata": {
    "id": "VvWl3ebqzCc1"
   },
   "source": [
    "# Instructions\n",
    "- Some part of the code is already done for you\n",
    "- You need to execute all the cells\n",
    "- You need to add the code where ever you see `\"#### Add your code here ####\"`\n",
    "- Marks are mentioned along with the cells"
   ]
  },
  {
   "cell_type": "markdown",
   "metadata": {
    "id": "Aa0jyJzw091I"
   },
   "source": [
    "## Dataset\n",
    "Faces in images marked with bounding boxes. Have around 409 images with around 1000 faces manually tagged via bounding box.\n",
    "- Data file name: images.npy"
   ]
  },
  {
   "cell_type": "code",
   "execution_count": 1,
   "metadata": {
    "id": "ZwRGP-ijTPcp"
   },
   "outputs": [],
   "source": [
    "#importing tensorflow and setting seed to 0 and warnings to off\n",
    "%tensorflow_version 2.x\n",
    "import tensorflow\n",
    "tensorflow.__version__\n",
    "# Initialize the random number generator\n",
    "import random\n",
    "random.seed(0)\n",
    "\n",
    "# Ignore the warnings\n",
    "import warnings\n",
    "warnings.filterwarnings(\"ignore\")"
   ]
  },
  {
   "cell_type": "markdown",
   "metadata": {
    "id": "AXTAHNGrXlOC"
   },
   "source": [
    "### Mount Google drive if you are using google colab\n",
    "- We recommend using Google Colab as you can face memory issues and longer runtimes while running on local\n"
   ]
  },
  {
   "cell_type": "code",
   "execution_count": 2,
   "metadata": {
    "colab": {
     "base_uri": "https://localhost:8080/",
     "height": 34
    },
    "id": "sBWMoTJ9cf3Z",
    "outputId": "86ef92ab-6b5e-450b-e89e-698df43986d6"
   },
   "outputs": [
    {
     "name": "stdout",
     "output_type": "stream",
     "text": [
      "Drive already mounted at /content/drive/; to attempt to forcibly remount, call drive.mount(\"/content/drive/\", force_remount=True).\n"
     ]
    }
   ],
   "source": [
    "from google.colab import drive\n",
    "drive.mount('/content/drive/')"
   ]
  },
  {
   "cell_type": "markdown",
   "metadata": {
    "id": "3srplE-FEpKa"
   },
   "source": [
    "### Load the \"images.npy\" file (2 marks)\n",
    "- This file contains images with details of bounding boxes"
   ]
  },
  {
   "cell_type": "code",
   "execution_count": 27,
   "metadata": {
    "colab": {
     "base_uri": "https://localhost:8080/",
     "height": 894
    },
    "id": "MqFE_tZDf0sM",
    "outputId": "43416436-b799-4547-e39a-09abcb23ae34"
   },
   "outputs": [
    {
     "data": {
      "text/plain": [
       "array([array([[[207, 216, 227, 255],\n",
       "        [206, 216, 227, 255],\n",
       "        [207, 216, 227, 255],\n",
       "        ...,\n",
       "        [ 35,  33,  34, 255],\n",
       "        [ 35,  33,  34, 255],\n",
       "        [ 35,  33,  34, 255]],\n",
       "\n",
       "       [[207, 216, 227, 255],\n",
       "        [207, 216, 227, 255],\n",
       "        [207, 216, 227, 255],\n",
       "        ...,\n",
       "        [ 35,  32,  33, 255],\n",
       "        [ 35,  33,  34, 255],\n",
       "        [ 35,  33,  34, 255]],\n",
       "\n",
       "       [[207, 216, 227, 255],\n",
       "        [207, 216, 227, 255],\n",
       "        [207, 215, 227, 255],\n",
       "        ...,\n",
       "        [ 35,  33,  33, 255],\n",
       "        [ 35,  33,  34, 255],\n",
       "        [ 35,  33,  34, 255]],\n",
       "\n",
       "       ...,\n",
       "\n",
       "       [[ 31,  21,  17, 255],\n",
       "        [ 31,  22,  18, 255],\n",
       "        [ 31,  22,  18, 255],\n",
       "        ...,\n",
       "        [  0,   1,   4, 255],\n",
       "        [  0,   1,   4, 255],\n",
       "        [  0,   1,   4, 255]],\n",
       "\n",
       "       [[ 31,  22,  18, 255],\n",
       "        [ 31,  22,  18, 255],\n",
       "        [ 31,  22,  18, 255],\n",
       "        ...,\n",
       "        [  0,   1,   4, 255],\n",
       "        [  0,   1,   4, 255],\n",
       "        [  0,   1,   4, 255]],\n",
       "\n",
       "       [[ 31,  22,  18, 255],\n",
       "        [ 30,  22,  17, 255],\n",
       "        [ 31,  22,  18, 255],\n",
       "        ...,\n",
       "        [  0,   1,   4, 255],\n",
       "        [  0,   1,   4, 255],\n",
       "        [  0,   1,   4, 255]]], dtype=uint8),\n",
       "       list([{'label': ['Face'], 'notes': '', 'points': [{'x': 0.7053087757313109, 'y': 0.23260437375745527}, {'x': 0.7692307692307693, 'y': 0.36182902584493043}], 'imageWidth': 1280, 'imageHeight': 697}])],\n",
       "      dtype=object)"
      ]
     },
     "execution_count": 27,
     "metadata": {
      "tags": []
     },
     "output_type": "execute_result"
    }
   ],
   "source": [
    "#Loading data \n",
    "import numpy as np\n",
    "data_path='/content/drive/My Drive/Colab Notebooks/CNN_PROJECT_DATA/images.npy'\n",
    "data = np.load(data_path,allow_pickle=True)\n",
    "data[1, :]"
   ]
  },
  {
   "cell_type": "markdown",
   "metadata": {
    "id": "_SMP8zliFT7R"
   },
   "source": [
    "### Check one sample from the loaded \"images.npy\" file  (3 marks)\n",
    "- Hint: print data[10][1] "
   ]
  },
  {
   "cell_type": "code",
   "execution_count": 4,
   "metadata": {
    "colab": {
     "base_uri": "https://localhost:8080/",
     "height": 118
    },
    "id": "NoqNvPK-iXqG",
    "outputId": "a17fd517-de15-49b2-8f0e-c812b02f3068"
   },
   "outputs": [
    {
     "data": {
      "text/plain": [
       "[{'imageHeight': 337,\n",
       "  'imageWidth': 600,\n",
       "  'label': ['Face'],\n",
       "  'notes': '',\n",
       "  'points': [{'x': 0.48, 'y': 0.10385756676557864},\n",
       "   {'x': 0.7716666666666666, 'y': 0.6795252225519288}]}]"
      ]
     },
     "execution_count": 4,
     "metadata": {
      "tags": []
     },
     "output_type": "execute_result"
    }
   ],
   "source": [
    "\n",
    "data[10][1]"
   ]
  },
  {
   "cell_type": "code",
   "execution_count": 5,
   "metadata": {
    "colab": {
     "base_uri": "https://localhost:8080/",
     "height": 34
    },
    "id": "E0WUjJJ_6spm",
    "outputId": "4870e5bd-f666-46be-d41c-8072177d7751"
   },
   "outputs": [
    {
     "data": {
      "text/plain": [
       "(409, 2)"
      ]
     },
     "execution_count": 5,
     "metadata": {
      "tags": []
     },
     "output_type": "execute_result"
    }
   ],
   "source": [
    "#Data shape\n",
    "data.shape"
   ]
  },
  {
   "cell_type": "markdown",
   "metadata": {
    "id": "m94G4p3CE5Cj"
   },
   "source": [
    "### Set image dimensions   (2 marks)\n",
    "- Initialize image height, image width with value: 224 "
   ]
  },
  {
   "cell_type": "code",
   "execution_count": 6,
   "metadata": {
    "id": "kuZmtOASevDo"
   },
   "outputs": [],
   "source": [
    "\n",
    "IMAGE_HEIGHT = 224\n",
    "IMAGE_WIDTH = 224\n",
    "HEIGHT_CELLS = 224\n",
    "WIDTH_CELLS = 224\n",
    "\n"
   ]
  },
  {
   "cell_type": "markdown",
   "metadata": {
    "id": "wY6FEsCjG47s"
   },
   "source": [
    "### Create features and labels\n",
    "- Here feature is the image\n",
    "- The label is the mask\n",
    "- Images will be stored in \"X\" array\n",
    "- Masks will be stored in \"masks\" array"
   ]
  },
  {
   "cell_type": "code",
   "execution_count": 7,
   "metadata": {
    "id": "XjCT9EVTgAvr"
   },
   "outputs": [],
   "source": [
    "import cv2\n",
    "from tensorflow.keras.applications.mobilenet import preprocess_input\n",
    "\n",
    "#masks = np.zeros((int(data.shape[0]), 28, 28))\n",
    "masks = np.zeros((int(data.shape[0]), IMAGE_HEIGHT, IMAGE_WIDTH))\n",
    "X = np.zeros((int(data.shape[0]), IMAGE_HEIGHT, IMAGE_WIDTH, 3))\n",
    "for index in range(data.shape[0]):\n",
    "    img = data[index][0]\n",
    "    img = cv2.resize(img, dsize=(IMAGE_HEIGHT, IMAGE_WIDTH), interpolation=cv2.INTER_CUBIC)\n",
    "    try:\n",
    "      img = img[:, :, :3]\n",
    "    except:\n",
    "      continue\n",
    "    X[index] = preprocess_input(np.array(img, dtype=np.float32))\n",
    "    for i in data[index][1]:\n",
    "        x1 = int(i[\"points\"][0]['x'] * IMAGE_WIDTH)\n",
    "        x2 = int(i[\"points\"][1]['x'] * IMAGE_WIDTH)\n",
    "        y1 = int(i[\"points\"][0]['y'] * IMAGE_HEIGHT)\n",
    "        y2 = int(i[\"points\"][1]['y'] * IMAGE_HEIGHT)\n",
    "        masks[index][y1:y2, x1:x2] = 1"
   ]
  },
  {
   "cell_type": "markdown",
   "metadata": {
    "id": "N3AYbP79bFtJ"
   },
   "source": [
    "### Split the data into training and testing (3 marks)\n",
    "- 400 images in training\n",
    "- 9 images in testing data"
   ]
  },
  {
   "cell_type": "markdown",
   "metadata": {
    "id": "-Uc0NmqXQtPK"
   },
   "source": [
    "Training data"
   ]
  },
  {
   "cell_type": "code",
   "execution_count": 9,
   "metadata": {
    "colab": {
     "base_uri": "https://localhost:8080/",
     "height": 50
    },
    "id": "3PIRaEdWIjDa",
    "outputId": "f92bffd4-2e31-4866-acfb-8fda7b996faa"
   },
   "outputs": [
    {
     "name": "stdout",
     "output_type": "stream",
     "text": [
      "(400, 224, 224, 3)\n",
      "(400, 224, 224)\n"
     ]
    }
   ],
   "source": [
    "#Spiltting training data \n",
    "X_train =X[:-9, :,:,:] \n",
    "y_train = masks[:-9,:,:] \n",
    "print(X_train.shape)\n",
    "print(y_train.shape)\n"
   ]
  },
  {
   "cell_type": "markdown",
   "metadata": {
    "id": "7ybyn6QnQ4ID"
   },
   "source": [
    "Testing data"
   ]
  },
  {
   "cell_type": "code",
   "execution_count": 10,
   "metadata": {
    "colab": {
     "base_uri": "https://localhost:8080/",
     "height": 50
    },
    "id": "Gw6uH5DxgI_r",
    "outputId": "126b9395-77b5-4a0a-f67e-16dfe81723b4"
   },
   "outputs": [
    {
     "name": "stdout",
     "output_type": "stream",
     "text": [
      "(9, 224, 224, 3)\n",
      "(9, 224, 224)\n"
     ]
    }
   ],
   "source": [
    "#splitting Test data\n",
    "X_test =X[-9:, :,:,:] \n",
    "y_test =masks[-9:,:,:]\n",
    "print(X_test.shape)\n",
    "print(y_test.shape)\n"
   ]
  },
  {
   "cell_type": "markdown",
   "metadata": {
    "id": "R4wgkWq1bk5F"
   },
   "source": [
    "### Print a sample training image, image array and its mask (3 marks)"
   ]
  },
  {
   "cell_type": "markdown",
   "metadata": {
    "id": "gfqobMQoRCW-"
   },
   "source": [
    "Print the image and image array"
   ]
  },
  {
   "cell_type": "code",
   "execution_count": 11,
   "metadata": {
    "colab": {
     "base_uri": "https://localhost:8080/",
     "height": 1000
    },
    "id": "qfRZjQufj0N9",
    "outputId": "a060e97e-6e52-4990-d6d0-e9be69784675"
   },
   "outputs": [
    {
     "name": "stderr",
     "output_type": "stream",
     "text": [
      "Clipping input data to the valid range for imshow with RGB data ([0..1] for floats or [0..255] for integers).\n"
     ]
    },
    {
     "name": "stdout",
     "output_type": "stream",
     "text": [
      "[[[-1. -1. -1.]\n",
      "  [-1. -1. -1.]\n",
      "  [-1. -1. -1.]\n",
      "  ...\n",
      "  [-1. -1. -1.]\n",
      "  [-1. -1. -1.]\n",
      "  [-1. -1. -1.]]\n",
      "\n",
      " [[-1. -1. -1.]\n",
      "  [-1. -1. -1.]\n",
      "  [-1. -1. -1.]\n",
      "  ...\n",
      "  [-1. -1. -1.]\n",
      "  [-1. -1. -1.]\n",
      "  [-1. -1. -1.]]\n",
      "\n",
      " [[-1. -1. -1.]\n",
      "  [-1. -1. -1.]\n",
      "  [-1. -1. -1.]\n",
      "  ...\n",
      "  [-1. -1. -1.]\n",
      "  [-1. -1. -1.]\n",
      "  [-1. -1. -1.]]\n",
      "\n",
      " ...\n",
      "\n",
      " [[-1. -1. -1.]\n",
      "  [-1. -1. -1.]\n",
      "  [-1. -1. -1.]\n",
      "  ...\n",
      "  [-1. -1. -1.]\n",
      "  [-1. -1. -1.]\n",
      "  [-1. -1. -1.]]\n",
      "\n",
      " [[-1. -1. -1.]\n",
      "  [-1. -1. -1.]\n",
      "  [-1. -1. -1.]\n",
      "  ...\n",
      "  [-1. -1. -1.]\n",
      "  [-1. -1. -1.]\n",
      "  [-1. -1. -1.]]\n",
      "\n",
      " [[-1. -1. -1.]\n",
      "  [-1. -1. -1.]\n",
      "  [-1. -1. -1.]\n",
      "  ...\n",
      "  [-1. -1. -1.]\n",
      "  [-1. -1. -1.]\n",
      "  [-1. -1. -1.]]]\n"
     ]
    },
    {
     "data": {
      "text/plain": [
       "<matplotlib.image.AxesImage at 0x7fb9171f42b0>"
      ]
     },
     "execution_count": 11,
     "metadata": {
      "tags": []
     },
     "output_type": "execute_result"
    },
    {
     "data": {
      "image/png": "[encoded data removed]",
      "text/plain": [
       "<Figure size 432x288 with 1 Axes>"
      ]
     },
     "metadata": {
      "needs_background": "light",
      "tags": []
     },
     "output_type": "display_data"
    }
   ],
   "source": [
    "\n",
    "import cv2\n",
    "import matplotlib.pyplot as plt\n",
    "print(X_train[20])\n",
    "plt.imshow(X_train[20])\n"
   ]
  },
  {
   "cell_type": "markdown",
   "metadata": {
    "id": "cctmS46hJKnL"
   },
   "source": [
    "Print the mask"
   ]
  },
  {
   "cell_type": "code",
   "execution_count": 12,
   "metadata": {
    "colab": {
     "base_uri": "https://localhost:8080/",
     "height": 286
    },
    "id": "983gGKcwlSe8",
    "outputId": "ce57db83-3c76-4233-bd37-4b543344bf96"
   },
   "outputs": [
    {
     "data": {
      "text/plain": [
       "<matplotlib.image.AxesImage at 0x7fb916cc5828>"
      ]
     },
     "execution_count": 12,
     "metadata": {
      "tags": []
     },
     "output_type": "execute_result"
    },
    {
     "data": {
      "image/png": "[encoded data removed]",
      "text/plain": [
       "<Figure size 432x288 with 1 Axes>"
      ]
     },
     "metadata": {
      "needs_background": "light",
      "tags": []
     },
     "output_type": "display_data"
    }
   ],
   "source": [
    "\n",
    "plt.imshow(y_train[20])"
   ]
  },
  {
   "cell_type": "markdown",
   "metadata": {
    "id": "Z0Qa1UOue9TE"
   },
   "source": [
    "## Create the model (7 marks)\n",
    "- Add MobileNet as model with below parameter values\n",
    "  - input_shape: IMAGE_HEIGHT, IMAGE_WIDTH, 3\n",
    "  - include_top: False\n",
    "  - alpha: 1.0\n",
    "  - weights: \"imagenet\"\n",
    "- Add UNET architecture layers\n",
    "  - This is the trickiest part of the project, you need to research and implement it correctly"
   ]
  },
  {
   "cell_type": "code",
   "execution_count": 13,
   "metadata": {
    "id": "BTVYOvANrUVx"
   },
   "outputs": [],
   "source": [
    "from tensorflow.keras.applications.mobilenet import MobileNet\n",
    "from tensorflow.keras.layers import Reshape, UpSampling2D, Concatenate, Conv2D\n",
    "from tensorflow.keras.models import Model\n",
    "\n",
    "def create_model(trainable=True):\n",
    "    model = MobileNet(input_shape=(IMAGE_HEIGHT, IMAGE_WIDTH, 3), include_top=False, alpha=1.0, weights=\"imagenet\")\n",
    "\n",
    "    for layer in model.layers:\n",
    "        layer.trainable = trainable\n",
    "     \n",
    "    block02=  model.get_layer(\"conv_pw_1_relu\").output    \n",
    "    block01=  model.get_layer(\"conv_pw_3_relu\").output\n",
    "    block1 = model.get_layer(\"conv_pw_5_relu\").output\n",
    "    block2 = model.get_layer(\"conv_pw_11_relu\").output\n",
    "    block3 = model.get_layer(\"conv_pw_13_relu\").output\n",
    "    \n",
    "\n",
    "    x = Concatenate()([UpSampling2D()(block3), block2])\n",
    "    x = Concatenate()([UpSampling2D()(x), block1])\n",
    "    x = Concatenate()([UpSampling2D()(x), block01])\n",
    "    x = Concatenate()([UpSampling2D()(x), block02])\n",
    "    x=UpSampling2D()(x)\n",
    "\n",
    "\n",
    "    x = Conv2D(1, kernel_size=1, activation=\"sigmoid\")(x)\n",
    "    x = Reshape((224,224))(x)\n",
    "\n",
    "    return Model(inputs=model.input, outputs=x) "
   ]
  },
  {
   "cell_type": "markdown",
   "metadata": {
    "id": "_snZ9o0ZBAiv"
   },
   "source": [
    "### Call the create_model function (2 marks)\n",
    "- Give trainable=False as argument, if you want to freeze lower layers for fast training (but low accuracy)"
   ]
  },
  {
   "cell_type": "code",
   "execution_count": 14,
   "metadata": {
    "id": "9TfSSP51uPoO"
   },
   "outputs": [],
   "source": [
    "#### Add your code here ####\n",
    "model = create_model(False)"
   ]
  },
  {
   "cell_type": "markdown",
   "metadata": {
    "id": "lUr_ZSHkKb5G"
   },
   "source": [
    "### Print model summary (2 marks)"
   ]
  },
  {
   "cell_type": "code",
   "execution_count": 15,
   "metadata": {
    "colab": {
     "base_uri": "https://localhost:8080/",
     "height": 1000
    },
    "id": "xXCbBt78KfT-",
    "outputId": "fe9876f7-2ce9-43a6-e9c2-ab0ab1f15146"
   },
   "outputs": [
    {
     "name": "stdout",
     "output_type": "stream",
     "text": [
      "Model: \"functional_1\"\n",
      "__________________________________________________________________________________________________\n",
      "Layer (type)                    Output Shape         Param #     Connected to                     \n",
      "==================================================================================================\n",
      "input_1 (InputLayer)            [(None, 224, 224, 3) 0                                            \n",
      "__________________________________________________________________________________________________\n",
      "conv1_pad (ZeroPadding2D)       (None, 225, 225, 3)  0           input_1[0][0]                    \n",
      "__________________________________________________________________________________________________\n",
      "conv1 (Conv2D)                  (None, 112, 112, 32) 864         conv1_pad[0][0]                  \n",
      "__________________________________________________________________________________________________\n",
      "conv1_bn (BatchNormalization)   (None, 112, 112, 32) 128         conv1[0][0]                      \n",
      "__________________________________________________________________________________________________\n",
      "conv1_relu (ReLU)               (None, 112, 112, 32) 0           conv1_bn[0][0]                   \n",
      "__________________________________________________________________________________________________\n",
      "conv_dw_1 (DepthwiseConv2D)     (None, 112, 112, 32) 288         conv1_relu[0][0]                 \n",
      "__________________________________________________________________________________________________\n",
      "conv_dw_1_bn (BatchNormalizatio (None, 112, 112, 32) 128         conv_dw_1[0][0]                  \n",
      "__________________________________________________________________________________________________\n",
      "conv_dw_1_relu (ReLU)           (None, 112, 112, 32) 0           conv_dw_1_bn[0][0]               \n",
      "__________________________________________________________________________________________________\n",
      "conv_pw_1 (Conv2D)              (None, 112, 112, 64) 2048        conv_dw_1_relu[0][0]             \n",
      "__________________________________________________________________________________________________\n",
      "conv_pw_1_bn (BatchNormalizatio (None, 112, 112, 64) 256         conv_pw_1[0][0]                  \n",
      "__________________________________________________________________________________________________\n",
      "conv_pw_1_relu (ReLU)           (None, 112, 112, 64) 0           conv_pw_1_bn[0][0]               \n",
      "__________________________________________________________________________________________________\n",
      "conv_pad_2 (ZeroPadding2D)      (None, 113, 113, 64) 0           conv_pw_1_relu[0][0]             \n",
      "__________________________________________________________________________________________________\n",
      "conv_dw_2 (DepthwiseConv2D)     (None, 56, 56, 64)   576         conv_pad_2[0][0]                 \n",
      "__________________________________________________________________________________________________\n",
      "conv_dw_2_bn (BatchNormalizatio (None, 56, 56, 64)   256         conv_dw_2[0][0]                  \n",
      "__________________________________________________________________________________________________\n",
      "conv_dw_2_relu (ReLU)           (None, 56, 56, 64)   0           conv_dw_2_bn[0][0]               \n",
      "__________________________________________________________________________________________________\n",
      "conv_pw_2 (Conv2D)              (None, 56, 56, 128)  8192        conv_dw_2_relu[0][0]             \n",
      "__________________________________________________________________________________________________\n",
      "conv_pw_2_bn (BatchNormalizatio (None, 56, 56, 128)  512         conv_pw_2[0][0]                  \n",
      "__________________________________________________________________________________________________\n",
      "conv_pw_2_relu (ReLU)           (None, 56, 56, 128)  0           conv_pw_2_bn[0][0]               \n",
      "__________________________________________________________________________________________________\n",
      "conv_dw_3 (DepthwiseConv2D)     (None, 56, 56, 128)  1152        conv_pw_2_relu[0][0]             \n",
      "__________________________________________________________________________________________________\n",
      "conv_dw_3_bn (BatchNormalizatio (None, 56, 56, 128)  512         conv_dw_3[0][0]                  \n",
      "__________________________________________________________________________________________________\n",
      "conv_dw_3_relu (ReLU)           (None, 56, 56, 128)  0           conv_dw_3_bn[0][0]               \n",
      "__________________________________________________________________________________________________\n",
      "conv_pw_3 (Conv2D)              (None, 56, 56, 128)  16384       conv_dw_3_relu[0][0]             \n",
      "__________________________________________________________________________________________________\n",
      "conv_pw_3_bn (BatchNormalizatio (None, 56, 56, 128)  512         conv_pw_3[0][0]                  \n",
      "__________________________________________________________________________________________________\n",
      "conv_pw_3_relu (ReLU)           (None, 56, 56, 128)  0           conv_pw_3_bn[0][0]               \n",
      "__________________________________________________________________________________________________\n",
      "conv_pad_4 (ZeroPadding2D)      (None, 57, 57, 128)  0           conv_pw_3_relu[0][0]             \n",
      "__________________________________________________________________________________________________\n",
      "conv_dw_4 (DepthwiseConv2D)     (None, 28, 28, 128)  1152        conv_pad_4[0][0]                 \n",
      "__________________________________________________________________________________________________\n",
      "conv_dw_4_bn (BatchNormalizatio (None, 28, 28, 128)  512         conv_dw_4[0][0]                  \n",
      "__________________________________________________________________________________________________\n",
      "conv_dw_4_relu (ReLU)           (None, 28, 28, 128)  0           conv_dw_4_bn[0][0]               \n",
      "__________________________________________________________________________________________________\n",
      "conv_pw_4 (Conv2D)              (None, 28, 28, 256)  32768       conv_dw_4_relu[0][0]             \n",
      "__________________________________________________________________________________________________\n",
      "conv_pw_4_bn (BatchNormalizatio (None, 28, 28, 256)  1024        conv_pw_4[0][0]                  \n",
      "__________________________________________________________________________________________________\n",
      "conv_pw_4_relu (ReLU)           (None, 28, 28, 256)  0           conv_pw_4_bn[0][0]               \n",
      "__________________________________________________________________________________________________\n",
      "conv_dw_5 (DepthwiseConv2D)     (None, 28, 28, 256)  2304        conv_pw_4_relu[0][0]             \n",
      "__________________________________________________________________________________________________\n",
      "conv_dw_5_bn (BatchNormalizatio (None, 28, 28, 256)  1024        conv_dw_5[0][0]                  \n",
      "__________________________________________________________________________________________________\n",
      "conv_dw_5_relu (ReLU)           (None, 28, 28, 256)  0           conv_dw_5_bn[0][0]               \n",
      "__________________________________________________________________________________________________\n",
      "conv_pw_5 (Conv2D)              (None, 28, 28, 256)  65536       conv_dw_5_relu[0][0]             \n",
      "__________________________________________________________________________________________________\n",
      "conv_pw_5_bn (BatchNormalizatio (None, 28, 28, 256)  1024        conv_pw_5[0][0]                  \n",
      "__________________________________________________________________________________________________\n",
      "conv_pw_5_relu (ReLU)           (None, 28, 28, 256)  0           conv_pw_5_bn[0][0]               \n",
      "__________________________________________________________________________________________________\n",
      "conv_pad_6 (ZeroPadding2D)      (None, 29, 29, 256)  0           conv_pw_5_relu[0][0]             \n",
      "__________________________________________________________________________________________________\n",
      "conv_dw_6 (DepthwiseConv2D)     (None, 14, 14, 256)  2304        conv_pad_6[0][0]                 \n",
      "__________________________________________________________________________________________________\n",
      "conv_dw_6_bn (BatchNormalizatio (None, 14, 14, 256)  1024        conv_dw_6[0][0]                  \n",
      "__________________________________________________________________________________________________\n",
      "conv_dw_6_relu (ReLU)           (None, 14, 14, 256)  0           conv_dw_6_bn[0][0]               \n",
      "__________________________________________________________________________________________________\n",
      "conv_pw_6 (Conv2D)              (None, 14, 14, 512)  131072      conv_dw_6_relu[0][0]             \n",
      "__________________________________________________________________________________________________\n",
      "conv_pw_6_bn (BatchNormalizatio (None, 14, 14, 512)  2048        conv_pw_6[0][0]                  \n",
      "__________________________________________________________________________________________________\n",
      "conv_pw_6_relu (ReLU)           (None, 14, 14, 512)  0           conv_pw_6_bn[0][0]               \n",
      "__________________________________________________________________________________________________\n",
      "conv_dw_7 (DepthwiseConv2D)     (None, 14, 14, 512)  4608        conv_pw_6_relu[0][0]             \n",
      "__________________________________________________________________________________________________\n",
      "conv_dw_7_bn (BatchNormalizatio (None, 14, 14, 512)  2048        conv_dw_7[0][0]                  \n",
      "__________________________________________________________________________________________________\n",
      "conv_dw_7_relu (ReLU)           (None, 14, 14, 512)  0           conv_dw_7_bn[0][0]               \n",
      "__________________________________________________________________________________________________\n",
      "conv_pw_7 (Conv2D)              (None, 14, 14, 512)  262144      conv_dw_7_relu[0][0]             \n",
      "__________________________________________________________________________________________________\n",
      "conv_pw_7_bn (BatchNormalizatio (None, 14, 14, 512)  2048        conv_pw_7[0][0]                  \n",
      "__________________________________________________________________________________________________\n",
      "conv_pw_7_relu (ReLU)           (None, 14, 14, 512)  0           conv_pw_7_bn[0][0]               \n",
      "__________________________________________________________________________________________________\n",
      "conv_dw_8 (DepthwiseConv2D)     (None, 14, 14, 512)  4608        conv_pw_7_relu[0][0]             \n",
      "__________________________________________________________________________________________________\n",
      "conv_dw_8_bn (BatchNormalizatio (None, 14, 14, 512)  2048        conv_dw_8[0][0]                  \n",
      "__________________________________________________________________________________________________\n",
      "conv_dw_8_relu (ReLU)           (None, 14, 14, 512)  0           conv_dw_8_bn[0][0]               \n",
      "__________________________________________________________________________________________________\n",
      "conv_pw_8 (Conv2D)              (None, 14, 14, 512)  262144      conv_dw_8_relu[0][0]             \n",
      "__________________________________________________________________________________________________\n",
      "conv_pw_8_bn (BatchNormalizatio (None, 14, 14, 512)  2048        conv_pw_8[0][0]                  \n",
      "__________________________________________________________________________________________________\n",
      "conv_pw_8_relu (ReLU)           (None, 14, 14, 512)  0           conv_pw_8_bn[0][0]               \n",
      "__________________________________________________________________________________________________\n",
      "conv_dw_9 (DepthwiseConv2D)     (None, 14, 14, 512)  4608        conv_pw_8_relu[0][0]             \n",
      "__________________________________________________________________________________________________\n",
      "conv_dw_9_bn (BatchNormalizatio (None, 14, 14, 512)  2048        conv_dw_9[0][0]                  \n",
      "__________________________________________________________________________________________________\n",
      "conv_dw_9_relu (ReLU)           (None, 14, 14, 512)  0           conv_dw_9_bn[0][0]               \n",
      "__________________________________________________________________________________________________\n",
      "conv_pw_9 (Conv2D)              (None, 14, 14, 512)  262144      conv_dw_9_relu[0][0]             \n",
      "__________________________________________________________________________________________________\n",
      "conv_pw_9_bn (BatchNormalizatio (None, 14, 14, 512)  2048        conv_pw_9[0][0]                  \n",
      "__________________________________________________________________________________________________\n",
      "conv_pw_9_relu (ReLU)           (None, 14, 14, 512)  0           conv_pw_9_bn[0][0]               \n",
      "__________________________________________________________________________________________________\n",
      "conv_dw_10 (DepthwiseConv2D)    (None, 14, 14, 512)  4608        conv_pw_9_relu[0][0]             \n",
      "__________________________________________________________________________________________________\n",
      "conv_dw_10_bn (BatchNormalizati (None, 14, 14, 512)  2048        conv_dw_10[0][0]                 \n",
      "__________________________________________________________________________________________________\n",
      "conv_dw_10_relu (ReLU)          (None, 14, 14, 512)  0           conv_dw_10_bn[0][0]              \n",
      "__________________________________________________________________________________________________\n",
      "conv_pw_10 (Conv2D)             (None, 14, 14, 512)  262144      conv_dw_10_relu[0][0]            \n",
      "__________________________________________________________________________________________________\n",
      "conv_pw_10_bn (BatchNormalizati (None, 14, 14, 512)  2048        conv_pw_10[0][0]                 \n",
      "__________________________________________________________________________________________________\n",
      "conv_pw_10_relu (ReLU)          (None, 14, 14, 512)  0           conv_pw_10_bn[0][0]              \n",
      "__________________________________________________________________________________________________\n",
      "conv_dw_11 (DepthwiseConv2D)    (None, 14, 14, 512)  4608        conv_pw_10_relu[0][0]            \n",
      "__________________________________________________________________________________________________\n",
      "conv_dw_11_bn (BatchNormalizati (None, 14, 14, 512)  2048        conv_dw_11[0][0]                 \n",
      "__________________________________________________________________________________________________\n",
      "conv_dw_11_relu (ReLU)          (None, 14, 14, 512)  0           conv_dw_11_bn[0][0]              \n",
      "__________________________________________________________________________________________________\n",
      "conv_pw_11 (Conv2D)             (None, 14, 14, 512)  262144      conv_dw_11_relu[0][0]            \n",
      "__________________________________________________________________________________________________\n",
      "conv_pw_11_bn (BatchNormalizati (None, 14, 14, 512)  2048        conv_pw_11[0][0]                 \n",
      "__________________________________________________________________________________________________\n",
      "conv_pw_11_relu (ReLU)          (None, 14, 14, 512)  0           conv_pw_11_bn[0][0]              \n",
      "__________________________________________________________________________________________________\n",
      "conv_pad_12 (ZeroPadding2D)     (None, 15, 15, 512)  0           conv_pw_11_relu[0][0]            \n",
      "__________________________________________________________________________________________________\n",
      "conv_dw_12 (DepthwiseConv2D)    (None, 7, 7, 512)    4608        conv_pad_12[0][0]                \n",
      "__________________________________________________________________________________________________\n",
      "conv_dw_12_bn (BatchNormalizati (None, 7, 7, 512)    2048        conv_dw_12[0][0]                 \n",
      "__________________________________________________________________________________________________\n",
      "conv_dw_12_relu (ReLU)          (None, 7, 7, 512)    0           conv_dw_12_bn[0][0]              \n",
      "__________________________________________________________________________________________________\n",
      "conv_pw_12 (Conv2D)             (None, 7, 7, 1024)   524288      conv_dw_12_relu[0][0]            \n",
      "__________________________________________________________________________________________________\n",
      "conv_pw_12_bn (BatchNormalizati (None, 7, 7, 1024)   4096        conv_pw_12[0][0]                 \n",
      "__________________________________________________________________________________________________\n",
      "conv_pw_12_relu (ReLU)          (None, 7, 7, 1024)   0           conv_pw_12_bn[0][0]              \n",
      "__________________________________________________________________________________________________\n",
      "conv_dw_13 (DepthwiseConv2D)    (None, 7, 7, 1024)   9216        conv_pw_12_relu[0][0]            \n",
      "__________________________________________________________________________________________________\n",
      "conv_dw_13_bn (BatchNormalizati (None, 7, 7, 1024)   4096        conv_dw_13[0][0]                 \n",
      "__________________________________________________________________________________________________\n",
      "conv_dw_13_relu (ReLU)          (None, 7, 7, 1024)   0           conv_dw_13_bn[0][0]              \n",
      "__________________________________________________________________________________________________\n",
      "conv_pw_13 (Conv2D)             (None, 7, 7, 1024)   1048576     conv_dw_13_relu[0][0]            \n",
      "__________________________________________________________________________________________________\n",
      "conv_pw_13_bn (BatchNormalizati (None, 7, 7, 1024)   4096        conv_pw_13[0][0]                 \n",
      "__________________________________________________________________________________________________\n",
      "conv_pw_13_relu (ReLU)          (None, 7, 7, 1024)   0           conv_pw_13_bn[0][0]              \n",
      "__________________________________________________________________________________________________\n",
      "up_sampling2d (UpSampling2D)    (None, 14, 14, 1024) 0           conv_pw_13_relu[0][0]            \n",
      "__________________________________________________________________________________________________\n",
      "concatenate (Concatenate)       (None, 14, 14, 1536) 0           up_sampling2d[0][0]              \n",
      "                                                                 conv_pw_11_relu[0][0]            \n",
      "__________________________________________________________________________________________________\n",
      "up_sampling2d_1 (UpSampling2D)  (None, 28, 28, 1536) 0           concatenate[0][0]                \n",
      "__________________________________________________________________________________________________\n",
      "concatenate_1 (Concatenate)     (None, 28, 28, 1792) 0           up_sampling2d_1[0][0]            \n",
      "                                                                 conv_pw_5_relu[0][0]             \n",
      "__________________________________________________________________________________________________\n",
      "up_sampling2d_2 (UpSampling2D)  (None, 56, 56, 1792) 0           concatenate_1[0][0]              \n",
      "__________________________________________________________________________________________________\n",
      "concatenate_2 (Concatenate)     (None, 56, 56, 1920) 0           up_sampling2d_2[0][0]            \n",
      "                                                                 conv_pw_3_relu[0][0]             \n",
      "__________________________________________________________________________________________________\n",
      "up_sampling2d_3 (UpSampling2D)  (None, 112, 112, 192 0           concatenate_2[0][0]              \n",
      "__________________________________________________________________________________________________\n",
      "concatenate_3 (Concatenate)     (None, 112, 112, 198 0           up_sampling2d_3[0][0]            \n",
      "                                                                 conv_pw_1_relu[0][0]             \n",
      "__________________________________________________________________________________________________\n",
      "up_sampling2d_4 (UpSampling2D)  (None, 224, 224, 198 0           concatenate_3[0][0]              \n",
      "__________________________________________________________________________________________________\n",
      "conv2d (Conv2D)                 (None, 224, 224, 1)  1985        up_sampling2d_4[0][0]            \n",
      "__________________________________________________________________________________________________\n",
      "reshape (Reshape)               (None, 224, 224)     0           conv2d[0][0]                     \n",
      "==================================================================================================\n",
      "Total params: 3,230,849\n",
      "Trainable params: 1,985\n",
      "Non-trainable params: 3,228,864\n",
      "__________________________________________________________________________________________________\n"
     ]
    }
   ],
   "source": [
    "#### Add your code here ####\n",
    "model.summary()"
   ]
  },
  {
   "cell_type": "markdown",
   "metadata": {
    "id": "2spcE4TvfEZw"
   },
   "source": [
    "\n",
    "### Define dice coefficient function (3 marks)\n",
    "- Create a function to calculate dice coefficient\n"
   ]
  },
  {
   "cell_type": "code",
   "execution_count": 34,
   "metadata": {
    "id": "8H8aViXZuWz1"
   },
   "outputs": [],
   "source": [
    "## Dice coefficient \n",
    "def dice_coefficient(y_true, y_pred):\n",
    "    numerator = 2 * tensorflow.reduce_sum(y_true * y_pred)\n",
    "    denominator = tensorflow.reduce_sum(y_true + y_pred)\n",
    "\n",
    "    return numerator / (denominator + tensorflow.keras.backend.epsilon())"
   ]
  },
  {
   "cell_type": "markdown",
   "metadata": {
    "id": "Nkp5SDM1fIu2"
   },
   "source": [
    "### Define loss function (3 marks)"
   ]
  },
  {
   "cell_type": "code",
   "execution_count": 35,
   "metadata": {
    "id": "FEOVfs19KVLv"
   },
   "outputs": [],
   "source": [
    "## Loss function\n",
    "from tensorflow.keras.losses import binary_crossentropy\n",
    "from tensorflow.keras.backend import log, epsilon\n",
    "\n",
    "def loss(y_true, y_pred):\n",
    "    return binary_crossentropy(y_true, y_pred) - log(dice_coefficient(y_true, y_pred) + epsilon())"
   ]
  },
  {
   "cell_type": "markdown",
   "metadata": {
    "id": "Thltv_akfOMS"
   },
   "source": [
    "\n",
    "### Compile the model (3 marks)\n",
    "- Complie the model using below parameters\n",
    "  - loss: use the loss function defined above\n",
    "  - optimizers: use Adam optimizer\n",
    "  - metrics: use dice_coefficient function defined above"
   ]
  },
  {
   "cell_type": "code",
   "execution_count": 36,
   "metadata": {
    "id": "atPb8xm2qkK5"
   },
   "outputs": [],
   "source": [
    "\n",
    "from tensorflow.keras.optimizers import Adam\n",
    "\n",
    "optimizer = Adam(lr=1e-4, beta_1=0.9, beta_2=0.999, epsilon=None, decay=0.0, amsgrad=False)\n",
    "model.compile(loss=loss, optimizer=optimizer, metrics=[dice_coefficient])"
   ]
  },
  {
   "cell_type": "markdown",
   "metadata": {
    "id": "VTumZyg0fuVy"
   },
   "source": [
    "### Define callbacks (3 marks)\n",
    "- Use ModelCheckpoint\n",
    "- Use EarlyStopping\n",
    "- Use ReduceLROnPlateau"
   ]
  },
  {
   "cell_type": "code",
   "execution_count": 37,
   "metadata": {
    "colab": {
     "base_uri": "https://localhost:8080/",
     "height": 34
    },
    "id": "QNlQHt8DMy7h",
    "outputId": "c2d5f7cc-6936-4b68-f9ba-d78cbfccfe49"
   },
   "outputs": [
    {
     "name": "stdout",
     "output_type": "stream",
     "text": [
      "WARNING:tensorflow:`period` argument is deprecated. Please use `save_freq` to specify the frequency in number of batches seen.\n"
     ]
    }
   ],
   "source": [
    "from tensorflow.keras.callbacks import ModelCheckpoint,EarlyStopping,ReduceLROnPlateau\n",
    "\n",
    "checkpoint = ModelCheckpoint(\"model-{loss:.2f}.h5\", monitor='loss', verbose=1, save_best_only=True, save_weights_only=True, period=1)\n",
    "\n",
    "stop = EarlyStopping(monitor='loss', patience=5)\n",
    "\n",
    "reduce_lr = ReduceLROnPlateau(monitor='loss', factor=0.2, patience=5, min_lr=1e-6,verbose=1)"
   ]
  },
  {
   "cell_type": "markdown",
   "metadata": {
    "id": "LxxbwvXEf07e"
   },
   "source": [
    "### Fit the model (3 marks)\n",
    "- Fit the model using below parameters\n",
    "  - epochs: you can decide\n",
    "  - batch_size: 1\n",
    "  - callbacks: use the callbacks defined above"
   ]
  },
  {
   "cell_type": "code",
   "execution_count": 38,
   "metadata": {
    "colab": {
     "base_uri": "https://localhost:8080/",
     "height": 1000
    },
    "id": "guFfKsEmq58j",
    "outputId": "7a4f9bab-bfdb-4424-9bca-bbff5c5a1f08"
   },
   "outputs": [
    {
     "name": "stdout",
     "output_type": "stream",
     "text": [
      "Epoch 1/40\n",
      "  1/400 [..............................] - ETA: 0s - loss: 0.9074 - dice_coefficient: 0.4486WARNING:tensorflow:Callbacks method `on_train_batch_end` is slow compared to the batch time (batch time: 0.0054s vs `on_train_batch_end` time: 0.0309s). Check your callbacks.\n",
      "398/400 [============================>.] - ETA: 0s - loss: 0.7061 - dice_coefficient: 0.6346\n",
      "Epoch 00001: loss improved from inf to 0.70525, saving model to model-0.71.h5\n",
      "400/400 [==============================] - 10s 25ms/step - loss: 0.7052 - dice_coefficient: 0.6348\n",
      "Epoch 2/40\n",
      "399/400 [============================>.] - ETA: 0s - loss: 0.7042 - dice_coefficient: 0.6360\n",
      "Epoch 00002: loss improved from 0.70525 to 0.70439, saving model to model-0.70.h5\n",
      "400/400 [==============================] - 10s 24ms/step - loss: 0.7044 - dice_coefficient: 0.6359\n",
      "Epoch 3/40\n",
      "400/400 [==============================] - ETA: 0s - loss: 0.7037 - dice_coefficient: 0.6361\n",
      "Epoch 00003: loss improved from 0.70439 to 0.70373, saving model to model-0.70.h5\n",
      "400/400 [==============================] - 10s 25ms/step - loss: 0.7037 - dice_coefficient: 0.6361\n",
      "Epoch 4/40\n",
      "399/400 [============================>.] - ETA: 0s - loss: 0.7040 - dice_coefficient: 0.6358\n",
      "Epoch 00004: loss improved from 0.70373 to 0.70340, saving model to model-0.70.h5\n",
      "400/400 [==============================] - 10s 25ms/step - loss: 0.7034 - dice_coefficient: 0.6362\n",
      "Epoch 5/40\n",
      "399/400 [============================>.] - ETA: 0s - loss: 0.6984 - dice_coefficient: 0.6383\n",
      "Epoch 00005: loss improved from 0.70340 to 0.69955, saving model to model-0.70.h5\n",
      "400/400 [==============================] - 10s 25ms/step - loss: 0.6996 - dice_coefficient: 0.6377\n",
      "Epoch 6/40\n",
      "399/400 [============================>.] - ETA: 0s - loss: 0.6989 - dice_coefficient: 0.6384\n",
      "Epoch 00006: loss improved from 0.69955 to 0.69831, saving model to model-0.70.h5\n",
      "400/400 [==============================] - 10s 25ms/step - loss: 0.6983 - dice_coefficient: 0.6388\n",
      "Epoch 7/40\n",
      "398/400 [============================>.] - ETA: 0s - loss: 0.6963 - dice_coefficient: 0.6393\n",
      "Epoch 00007: loss improved from 0.69831 to 0.69536, saving model to model-0.70.h5\n",
      "400/400 [==============================] - 10s 25ms/step - loss: 0.6954 - dice_coefficient: 0.6394\n",
      "Epoch 8/40\n",
      "400/400 [==============================] - ETA: 0s - loss: 0.6964 - dice_coefficient: 0.6392\n",
      "Epoch 00008: loss did not improve from 0.69536\n",
      "400/400 [==============================] - 10s 25ms/step - loss: 0.6964 - dice_coefficient: 0.6392\n",
      "Epoch 9/40\n",
      "398/400 [============================>.] - ETA: 0s - loss: 0.6973 - dice_coefficient: 0.6391\n",
      "Epoch 00009: loss did not improve from 0.69536\n",
      "400/400 [==============================] - 10s 25ms/step - loss: 0.6965 - dice_coefficient: 0.6395\n",
      "Epoch 10/40\n",
      "399/400 [============================>.] - ETA: 0s - loss: 0.6927 - dice_coefficient: 0.6407\n",
      "Epoch 00010: loss improved from 0.69536 to 0.69263, saving model to model-0.69.h5\n",
      "400/400 [==============================] - 10s 25ms/step - loss: 0.6926 - dice_coefficient: 0.6407\n",
      "Epoch 11/40\n",
      "400/400 [==============================] - ETA: 0s - loss: 0.6925 - dice_coefficient: 0.6407\n",
      "Epoch 00011: loss improved from 0.69263 to 0.69246, saving model to model-0.69.h5\n",
      "400/400 [==============================] - 10s 25ms/step - loss: 0.6925 - dice_coefficient: 0.6407\n",
      "Epoch 12/40\n",
      "399/400 [============================>.] - ETA: 0s - loss: 0.6922 - dice_coefficient: 0.6415\n",
      "Epoch 00012: loss improved from 0.69246 to 0.69235, saving model to model-0.69.h5\n",
      "400/400 [==============================] - 10s 25ms/step - loss: 0.6923 - dice_coefficient: 0.6414\n",
      "Epoch 13/40\n",
      "400/400 [==============================] - ETA: 0s - loss: 0.6893 - dice_coefficient: 0.6423\n",
      "Epoch 00013: loss improved from 0.69235 to 0.68932, saving model to model-0.69.h5\n",
      "400/400 [==============================] - 10s 25ms/step - loss: 0.6893 - dice_coefficient: 0.6423\n",
      "Epoch 14/40\n",
      "399/400 [============================>.] - ETA: 0s - loss: 0.6896 - dice_coefficient: 0.6425\n",
      "Epoch 00014: loss improved from 0.68932 to 0.68912, saving model to model-0.69.h5\n",
      "400/400 [==============================] - 10s 25ms/step - loss: 0.6891 - dice_coefficient: 0.6425\n",
      "Epoch 15/40\n",
      "398/400 [============================>.] - ETA: 0s - loss: 0.6896 - dice_coefficient: 0.6428\n",
      "Epoch 00015: loss did not improve from 0.68912\n",
      "400/400 [==============================] - 10s 25ms/step - loss: 0.6891 - dice_coefficient: 0.6428\n",
      "Epoch 16/40\n",
      "400/400 [==============================] - ETA: 0s - loss: 0.6857 - dice_coefficient: 0.6440\n",
      "Epoch 00016: loss improved from 0.68912 to 0.68574, saving model to model-0.69.h5\n",
      "400/400 [==============================] - 10s 25ms/step - loss: 0.6857 - dice_coefficient: 0.6440\n",
      "Epoch 17/40\n",
      "400/400 [==============================] - ETA: 0s - loss: 0.6856 - dice_coefficient: 0.6442\n",
      "Epoch 00017: loss improved from 0.68574 to 0.68561, saving model to model-0.69.h5\n",
      "400/400 [==============================] - 10s 25ms/step - loss: 0.6856 - dice_coefficient: 0.6442\n",
      "Epoch 18/40\n",
      "399/400 [============================>.] - ETA: 0s - loss: 0.6850 - dice_coefficient: 0.6447\n",
      "Epoch 00018: loss improved from 0.68561 to 0.68509, saving model to model-0.69.h5\n",
      "400/400 [==============================] - 10s 25ms/step - loss: 0.6851 - dice_coefficient: 0.6443\n",
      "Epoch 19/40\n",
      "399/400 [============================>.] - ETA: 0s - loss: 0.6848 - dice_coefficient: 0.6445\n",
      "Epoch 00019: loss improved from 0.68509 to 0.68409, saving model to model-0.68.h5\n",
      "400/400 [==============================] - 10s 25ms/step - loss: 0.6841 - dice_coefficient: 0.6449\n",
      "Epoch 20/40\n",
      "400/400 [==============================] - ETA: 0s - loss: 0.6838 - dice_coefficient: 0.6453\n",
      "Epoch 00020: loss improved from 0.68409 to 0.68376, saving model to model-0.68.h5\n",
      "400/400 [==============================] - 10s 25ms/step - loss: 0.6838 - dice_coefficient: 0.6453\n",
      "Epoch 21/40\n",
      "398/400 [============================>.] - ETA: 0s - loss: 0.6856 - dice_coefficient: 0.6440\n",
      "Epoch 00021: loss did not improve from 0.68376\n",
      "400/400 [==============================] - 10s 24ms/step - loss: 0.6844 - dice_coefficient: 0.6442\n",
      "Epoch 22/40\n",
      "398/400 [============================>.] - ETA: 0s - loss: 0.6828 - dice_coefficient: 0.6452\n",
      "Epoch 00022: loss improved from 0.68376 to 0.68131, saving model to model-0.68.h5\n",
      "400/400 [==============================] - 10s 25ms/step - loss: 0.6813 - dice_coefficient: 0.6460\n",
      "Epoch 23/40\n",
      "400/400 [==============================] - ETA: 0s - loss: 0.6797 - dice_coefficient: 0.6466\n",
      "Epoch 00023: loss improved from 0.68131 to 0.67972, saving model to model-0.68.h5\n",
      "400/400 [==============================] - 10s 25ms/step - loss: 0.6797 - dice_coefficient: 0.6466\n",
      "Epoch 24/40\n",
      "399/400 [============================>.] - ETA: 0s - loss: 0.6759 - dice_coefficient: 0.6480\n",
      "Epoch 00024: loss improved from 0.67972 to 0.67861, saving model to model-0.68.h5\n",
      "400/400 [==============================] - 10s 25ms/step - loss: 0.6786 - dice_coefficient: 0.6470\n",
      "Epoch 25/40\n",
      "400/400 [==============================] - ETA: 0s - loss: 0.6785 - dice_coefficient: 0.6470\n",
      "Epoch 00025: loss improved from 0.67861 to 0.67850, saving model to model-0.68.h5\n",
      "400/400 [==============================] - 10s 25ms/step - loss: 0.6785 - dice_coefficient: 0.6470\n",
      "Epoch 26/40\n",
      "399/400 [============================>.] - ETA: 0s - loss: 0.6764 - dice_coefficient: 0.6477\n",
      "Epoch 00026: loss improved from 0.67850 to 0.67562, saving model to model-0.68.h5\n",
      "400/400 [==============================] - 10s 25ms/step - loss: 0.6756 - dice_coefficient: 0.6481\n",
      "Epoch 27/40\n",
      "400/400 [==============================] - ETA: 0s - loss: 0.6786 - dice_coefficient: 0.6476\n",
      "Epoch 00027: loss did not improve from 0.67562\n",
      "400/400 [==============================] - 10s 25ms/step - loss: 0.6786 - dice_coefficient: 0.6476\n",
      "Epoch 28/40\n",
      "398/400 [============================>.] - ETA: 0s - loss: 0.6765 - dice_coefficient: 0.6484\n",
      "Epoch 00028: loss did not improve from 0.67562\n",
      "400/400 [==============================] - 10s 25ms/step - loss: 0.6765 - dice_coefficient: 0.6483\n",
      "Epoch 29/40\n",
      "400/400 [==============================] - ETA: 0s - loss: 0.6744 - dice_coefficient: 0.6491\n",
      "Epoch 00029: loss improved from 0.67562 to 0.67445, saving model to model-0.67.h5\n",
      "400/400 [==============================] - 10s 25ms/step - loss: 0.6744 - dice_coefficient: 0.6491\n",
      "Epoch 30/40\n",
      "398/400 [============================>.] - ETA: 0s - loss: 0.6741 - dice_coefficient: 0.6495\n",
      "Epoch 00030: loss improved from 0.67445 to 0.67337, saving model to model-0.67.h5\n",
      "400/400 [==============================] - 10s 25ms/step - loss: 0.6734 - dice_coefficient: 0.6494\n",
      "Epoch 31/40\n",
      "399/400 [============================>.] - ETA: 0s - loss: 0.6738 - dice_coefficient: 0.6490\n",
      "Epoch 00031: loss did not improve from 0.67337\n",
      "400/400 [==============================] - 10s 25ms/step - loss: 0.6751 - dice_coefficient: 0.6484\n",
      "Epoch 32/40\n",
      "398/400 [============================>.] - ETA: 0s - loss: 0.6743 - dice_coefficient: 0.6494\n",
      "Epoch 00032: loss did not improve from 0.67337\n",
      "400/400 [==============================] - 10s 25ms/step - loss: 0.6734 - dice_coefficient: 0.6499\n",
      "Epoch 33/40\n",
      "400/400 [==============================] - ETA: 0s - loss: 0.6730 - dice_coefficient: 0.6500\n",
      "Epoch 00033: loss improved from 0.67337 to 0.67297, saving model to model-0.67.h5\n",
      "400/400 [==============================] - 10s 25ms/step - loss: 0.6730 - dice_coefficient: 0.6500\n",
      "Epoch 34/40\n",
      "400/400 [==============================] - ETA: 0s - loss: 0.6715 - dice_coefficient: 0.6504\n",
      "Epoch 00034: loss improved from 0.67297 to 0.67152, saving model to model-0.67.h5\n",
      "400/400 [==============================] - 10s 25ms/step - loss: 0.6715 - dice_coefficient: 0.6504\n",
      "Epoch 35/40\n",
      "399/400 [============================>.] - ETA: 0s - loss: 0.6726 - dice_coefficient: 0.6503\n",
      "Epoch 00035: loss did not improve from 0.67152\n",
      "400/400 [==============================] - 10s 25ms/step - loss: 0.6722 - dice_coefficient: 0.6502\n",
      "Epoch 36/40\n",
      "399/400 [============================>.] - ETA: 0s - loss: 0.6719 - dice_coefficient: 0.6505\n",
      "Epoch 00036: loss improved from 0.67152 to 0.67123, saving model to model-0.67.h5\n",
      "400/400 [==============================] - 10s 25ms/step - loss: 0.6712 - dice_coefficient: 0.6509\n",
      "Epoch 37/40\n",
      "400/400 [==============================] - ETA: 0s - loss: 0.6691 - dice_coefficient: 0.6516\n",
      "Epoch 00037: loss improved from 0.67123 to 0.66914, saving model to model-0.67.h5\n",
      "400/400 [==============================] - 10s 25ms/step - loss: 0.6691 - dice_coefficient: 0.6516\n",
      "Epoch 38/40\n",
      "400/400 [==============================] - ETA: 0s - loss: 0.6682 - dice_coefficient: 0.6523\n",
      "Epoch 00038: loss improved from 0.66914 to 0.66818, saving model to model-0.67.h5\n",
      "400/400 [==============================] - 10s 25ms/step - loss: 0.6682 - dice_coefficient: 0.6523\n",
      "Epoch 39/40\n",
      "399/400 [============================>.] - ETA: 0s - loss: 0.6695 - dice_coefficient: 0.6516\n",
      "Epoch 00039: loss did not improve from 0.66818\n",
      "400/400 [==============================] - 10s 25ms/step - loss: 0.6694 - dice_coefficient: 0.6516\n",
      "Epoch 40/40\n",
      "400/400 [==============================] - ETA: 0s - loss: 0.6690 - dice_coefficient: 0.6518\n",
      "Epoch 00040: loss did not improve from 0.66818\n",
      "400/400 [==============================] - 10s 25ms/step - loss: 0.6690 - dice_coefficient: 0.6518\n"
     ]
    },
    {
     "data": {
      "text/plain": [
       "<tensorflow.python.keras.callbacks.History at 0x7fb8b2158da0>"
      ]
     },
     "execution_count": 38,
     "metadata": {
      "tags": []
     },
     "output_type": "execute_result"
    }
   ],
   "source": [
    "#### Add your code here ####\n",
    "model.fit(X_train,y_train ,epochs=40, batch_size=1, verbose=1,callbacks=[stop,reduce_lr,checkpoint])"
   ]
  },
  {
   "cell_type": "code",
   "execution_count": 51,
   "metadata": {
    "colab": {
     "base_uri": "https://localhost:8080/",
     "height": 50
    },
    "id": "jDszvPVFcsFl",
    "outputId": "7d25e4f5-0cd0-466f-cdbe-256c47504921"
   },
   "outputs": [
    {
     "name": "stdout",
     "output_type": "stream",
     "text": [
      "1/1 [==============================] - 0s 2ms/step - loss: 0.5720 - dice_coefficient: 0.6718\n"
     ]
    },
    {
     "data": {
      "text/plain": [
       "[0.571964681148529, 0.6718311905860901]"
      ]
     },
     "execution_count": 51,
     "metadata": {
      "tags": []
     },
     "output_type": "execute_result"
    }
   ],
   "source": [
    "#Evaluating on Test data\n",
    "model.evaluate(X_test, y_test, verbose=1)"
   ]
  },
  {
   "cell_type": "markdown",
   "metadata": {
    "id": "5VtnuzlOf4uL"
   },
   "source": [
    "### Get the predicted mask for a test image   (3 marks)"
   ]
  },
  {
   "cell_type": "markdown",
   "metadata": {
    "id": "EKeEPrQJNqpq"
   },
   "source": [
    "Show the test image"
   ]
  },
  {
   "cell_type": "code",
   "execution_count": 40,
   "metadata": {
    "colab": {
     "base_uri": "https://localhost:8080/",
     "height": 302
    },
    "id": "o-CBCMysrchu",
    "outputId": "26885a07-fae8-47b2-f32a-e64a9d2bd33e"
   },
   "outputs": [
    {
     "name": "stderr",
     "output_type": "stream",
     "text": [
      "Clipping input data to the valid range for imshow with RGB data ([0..1] for floats or [0..255] for integers).\n"
     ]
    },
    {
     "data": {
      "text/plain": [
       "<matplotlib.image.AxesImage at 0x7fb8aa458e48>"
      ]
     },
     "execution_count": 40,
     "metadata": {
      "tags": []
     },
     "output_type": "execute_result"
    },
    {
     "data": {
      "image/png": "[encoded data removed]",
      "text/plain": [
       "<Figure size 432x288 with 1 Axes>"
      ]
     },
     "metadata": {
      "needs_background": "light",
      "tags": []
     },
     "output_type": "display_data"
    }
   ],
   "source": [
    "\n",
    "import matplotlib.pyplot as plt\n",
    "plt.imshow(X_test[7])"
   ]
  },
  {
   "cell_type": "markdown",
   "metadata": {
    "id": "0HuDvCJHNuwF"
   },
   "source": [
    "Show original mask for test image"
   ]
  },
  {
   "cell_type": "code",
   "execution_count": 41,
   "metadata": {
    "colab": {
     "base_uri": "https://localhost:8080/",
     "height": 302
    },
    "id": "fvUuZu2zNxuj",
    "outputId": "c9c8e986-7736-488e-a0d7-6499bc324ffc"
   },
   "outputs": [
    {
     "name": "stdout",
     "output_type": "stream",
     "text": [
      " Test image shape:  (224, 224)\n"
     ]
    },
    {
     "data": {
      "text/plain": [
       "<matplotlib.image.AxesImage at 0x7fb8aa43c588>"
      ]
     },
     "execution_count": 41,
     "metadata": {
      "tags": []
     },
     "output_type": "execute_result"
    },
    {
     "data": {
      "image/png": "[encoded data removed]",
      "text/plain": [
       "<Figure size 432x288 with 1 Axes>"
      ]
     },
     "metadata": {
      "needs_background": "light",
      "tags": []
     },
     "output_type": "display_data"
    }
   ],
   "source": [
    "\n",
    "test_image = y_test[7]\n",
    "print(\" Test image shape: \",test_image.shape)\n",
    "plt.imshow(test_image)"
   ]
  },
  {
   "cell_type": "markdown",
   "metadata": {
    "id": "IJjNguwlN6rI"
   },
   "source": [
    "Predict the mask on the test image"
   ]
  },
  {
   "cell_type": "code",
   "execution_count": 44,
   "metadata": {
    "colab": {
     "base_uri": "https://localhost:8080/",
     "height": 302
    },
    "id": "X2dmz90gOcIr",
    "outputId": "4b3277fa-744a-465f-c4cf-9ee1764f0e3f"
   },
   "outputs": [
    {
     "name": "stdout",
     "output_type": "stream",
     "text": [
      "Test image shape: (1, 224, 224, 3)\n"
     ]
    },
    {
     "data": {
      "text/plain": [
       "<matplotlib.image.AxesImage at 0x7fb8aa3e7240>"
      ]
     },
     "execution_count": 44,
     "metadata": {
      "tags": []
     },
     "output_type": "execute_result"
    },
    {
     "data": {
      "image/png": "[encoded data removed]",
      "text/plain": [
       "<Figure size 432x288 with 1 Axes>"
      ]
     },
     "metadata": {
      "needs_background": "light",
      "tags": []
     },
     "output_type": "display_data"
    }
   ],
   "source": [
    "\n",
    "test_image = np.resize(test_image, (1, 224, 224, 3))\n",
    "print('Test image shape:',test_image.shape)\n",
    "\n",
    "pred_mask = model.predict(x=test_image)\n",
    "pred_mask = np.resize(pred_mask, (224, 224))\n",
    "plt.imshow(pred_mask)"
   ]
  },
  {
   "cell_type": "markdown",
   "metadata": {
    "id": "fDIetz0HgA4R"
   },
   "source": [
    "### Impose the mask on the test image (3 marks)\n",
    "- In imshow use the alpha parameter and set it to greater than 0.5"
   ]
  },
  {
   "cell_type": "code",
   "execution_count": 47,
   "metadata": {
    "colab": {
     "base_uri": "https://localhost:8080/",
     "height": 302
    },
    "id": "lYbLbDvscEnV",
    "outputId": "7a9e08e1-8452-4846-af48-d6a321e156c9"
   },
   "outputs": [
    {
     "name": "stdout",
     "output_type": "stream",
     "text": [
      "Test image shape: (1, 224, 224, 3)\n"
     ]
    },
    {
     "data": {
      "text/plain": [
       "<matplotlib.image.AxesImage at 0x7fb8aa211eb8>"
      ]
     },
     "execution_count": 47,
     "metadata": {
      "tags": []
     },
     "output_type": "execute_result"
    },
    {
     "data": {
      "image/png": "[encoded data removed]",
      "text/plain": [
       "<Figure size 432x288 with 1 Axes>"
      ]
     },
     "metadata": {
      "needs_background": "light",
      "tags": []
     },
     "output_type": "display_data"
    }
   ],
   "source": [
    "test_image = np.resize(test_image, (1, 224, 224, 3))\n",
    "print('Test image shape:',test_image.shape)\n",
    "\n",
    "pred_mask = model.predict(x=test_image)\n",
    "pred_mask = np.resize(pred_mask, (224, 224))\n",
    "plt.imshow(pred_mask,alpha=1)"
   ]
  },
  {
   "cell_type": "code",
   "execution_count": 48,
   "metadata": {
    "colab": {
     "base_uri": "https://localhost:8080/",
     "height": 319
    },
    "id": "MTAHGkb5xdzu",
    "outputId": "15ab650a-b406-4fee-87b0-027600346219"
   },
   "outputs": [
    {
     "name": "stderr",
     "output_type": "stream",
     "text": [
      "Clipping input data to the valid range for imshow with RGB data ([0..1] for floats or [0..255] for integers).\n"
     ]
    },
    {
     "name": "stdout",
     "output_type": "stream",
     "text": [
      "(224, 224, 3)\n"
     ]
    },
    {
     "data": {
      "text/plain": [
       "<matplotlib.image.AxesImage at 0x7fb8aa23eef0>"
      ]
     },
     "execution_count": 48,
     "metadata": {
      "tags": []
     },
     "output_type": "execute_result"
    },
    {
     "data": {
      "image/png": "[encoded data removed]",
      "text/plain": [
       "<Figure size 432x288 with 1 Axes>"
      ]
     },
     "metadata": {
      "needs_background": "light",
      "tags": []
     },
     "output_type": "display_data"
    }
   ],
   "source": [
    "\n",
    "final_image2 = X_test[8]\n",
    "print(X_test[0].shape)\n",
    "plt.imshow(final_image2,alpha=1)"
   ]
  },
  {
   "cell_type": "code",
   "execution_count": 49,
   "metadata": {
    "colab": {
     "base_uri": "https://localhost:8080/",
     "height": 286
    },
    "id": "-hjLHx5eWKFW",
    "outputId": "8de726bd-faae-44f2-a8c3-a84cd2a9c175"
   },
   "outputs": [
    {
     "data": {
      "text/plain": [
       "<matplotlib.image.AxesImage at 0x7fb8aa1509b0>"
      ]
     },
     "execution_count": 49,
     "metadata": {
      "tags": []
     },
     "output_type": "execute_result"
    },
    {
     "data": {
      "image/png": "[encoded data removed]",
      "text/plain": [
       "<Figure size 432x288 with 1 Axes>"
      ]
     },
     "metadata": {
      "needs_background": "light",
      "tags": []
     },
     "output_type": "display_data"
    }
   ],
   "source": [
    "final_image2 = np.resize(final_image2, (1, 224, 224, 3))\n",
    "pred_mask = model.predict(x=final_image2)\n",
    "pred_mask = np.resize(pred_mask, (224, 224))\n",
    "plt.imshow(pred_mask,alpha=1)"
   ]
  },
  {
   "cell_type": "markdown",
   "metadata": {},
   "source": [
    "Dice coefficient is very similar to the IoU and they both positively correlated. Like the IoU, the Dice coefficient range between 0 to 1, with 1 signifying the greatest in the similarity between predicted and truth.\n",
    "\n",
    "With this model, Accuracy is less, currently, the training data is 400 images and the test data is 9 images only, it could be the reason for low accuracy. If we use more data to train and test the model then the accuracy might be high."
   ]
  },
  {
   "cell_type": "code",
   "execution_count": null,
   "metadata": {},
   "outputs": [],
   "source": []
  }
 ],
 "metadata": {
  "accelerator": "GPU",
  "colab": {
   "collapsed_sections": [],
   "name": "Project 1-Advanced Computer Vision - Face Mask Prediction using U-Net.ipynb",
   "provenance": []
  },
  "kernelspec": {
   "display_name": "Python 3",
   "language": "python",
   "name": "python3"
  },
  "language_info": {
   "codemirror_mode": {
    "name": "ipython",
    "version": 3
   },
   "file_extension": ".py",
   "mimetype": "text/x-python",
   "name": "python",
   "nbconvert_exporter": "python",
   "pygments_lexer": "ipython3",
   "version": "3.7.6"
  }
 },
 "nbformat": 4,
 "nbformat_minor": 1
}
